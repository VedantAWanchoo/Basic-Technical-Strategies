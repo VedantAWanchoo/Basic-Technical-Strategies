{
 "cells": [
  {
   "cell_type": "markdown",
   "metadata": {},
   "source": [
    "# Answer 1 - Importing data from Bloomberg"
   ]
  },
  {
   "cell_type": "code",
   "execution_count": 1,
   "metadata": {},
   "outputs": [],
   "source": [
    "#from xbbg import blp\n",
    "#import pandas as pd\n",
    "#blp.create_connection()"
   ]
  },
  {
   "cell_type": "code",
   "execution_count": 2,
   "metadata": {},
   "outputs": [],
   "source": [
    "#EQNR_P=blp.bdh('EQNR NO Equity','PX_LAST','20070101','20171231')\n",
    "#GE_P=blp.bdh('GE US Equity','PX_LAST','20070101','20171231')\n",
    "#DBS_P=blp.bdh('DBS SP Equity','PX_LAST','20070101','20171231')\n",
    "#EQNR_P.head()"
   ]
  },
  {
   "cell_type": "code",
   "execution_count": 3,
   "metadata": {},
   "outputs": [],
   "source": [
    "#EQNR_V=blp.bdh('EQNR NO Equity','VOLUME','20070101','20171231')\n",
    "#GE_V=blp.bdh('GE US Equity','VOLUME','20070101','20171231')\n",
    "#DBS_V=blp.bdh('DBS SP Equity','VOLUME','20070101','20171231')\n",
    "#DBS_V.head()"
   ]
  },
  {
   "cell_type": "code",
   "execution_count": 4,
   "metadata": {},
   "outputs": [],
   "source": [
    "#tickers=['EQNR NO Equity','GE US Equity','DBS SP Equity']\n",
    "#i=['PX_LAST','VOLUME']\n",
    "#df= blp.bdh(tickers,i,'2007-01-01','2017-12-31')\n",
    "#df.columns=df.columns.get_level_values(0)\n",
    "#df.index.name='Date'\n",
    "#df.head()\n",
    "#df.columns=['EQ_P','EQ_V','GE_P','GE_V','DBS_P','DBS_V']\n",
    "#df=df.dropna()\n",
    "#df.head()"
   ]
  },
  {
   "cell_type": "code",
   "execution_count": 5,
   "metadata": {},
   "outputs": [],
   "source": [
    "#df.to_csv('Python A1 Final_Data.csv')"
   ]
  },
  {
   "cell_type": "markdown",
   "metadata": {},
   "source": [
    "# Answer 2 - Returns, Standard Deviations and Correlations"
   ]
  },
  {
   "cell_type": "code",
   "execution_count": 6,
   "metadata": {},
   "outputs": [],
   "source": [
    "import pandas as pd\n",
    "import matplotlib.pyplot as plt\n",
    "import numpy as np\n",
    "import math\n",
    "import datetime\n",
    "import statsmodels.api as sm\n",
    "from itertools import product"
   ]
  },
  {
   "cell_type": "code",
   "execution_count": 44,
   "metadata": {},
   "outputs": [
    {
     "data": {
      "text/html": [
       "<div>\n",
       "<style scoped>\n",
       "    .dataframe tbody tr th:only-of-type {\n",
       "        vertical-align: middle;\n",
       "    }\n",
       "\n",
       "    .dataframe tbody tr th {\n",
       "        vertical-align: top;\n",
       "    }\n",
       "\n",
       "    .dataframe thead th {\n",
       "        text-align: right;\n",
       "    }\n",
       "</style>\n",
       "<table border=\"1\" class=\"dataframe\">\n",
       "  <thead>\n",
       "    <tr style=\"text-align: right;\">\n",
       "      <th></th>\n",
       "      <th>EQ_P</th>\n",
       "      <th>EQ_V</th>\n",
       "      <th>GE_P</th>\n",
       "      <th>GE_V</th>\n",
       "      <th>DBS_P</th>\n",
       "      <th>DBS_V</th>\n",
       "    </tr>\n",
       "    <tr>\n",
       "      <th>Date</th>\n",
       "      <th></th>\n",
       "      <th></th>\n",
       "      <th></th>\n",
       "      <th></th>\n",
       "      <th></th>\n",
       "      <th></th>\n",
       "    </tr>\n",
       "  </thead>\n",
       "  <tbody>\n",
       "    <tr>\n",
       "      <th>2007-01-03</th>\n",
       "      <td>87.440</td>\n",
       "      <td>16310191.0</td>\n",
       "      <td>23.9146</td>\n",
       "      <td>43225000.0</td>\n",
       "      <td>11.7326</td>\n",
       "      <td>2721635.0</td>\n",
       "    </tr>\n",
       "    <tr>\n",
       "      <th>2007-01-04</th>\n",
       "      <td>84.226</td>\n",
       "      <td>17300051.0</td>\n",
       "      <td>23.7761</td>\n",
       "      <td>31305800.0</td>\n",
       "      <td>11.6293</td>\n",
       "      <td>4095213.0</td>\n",
       "    </tr>\n",
       "    <tr>\n",
       "      <th>2007-01-05</th>\n",
       "      <td>83.289</td>\n",
       "      <td>21904081.0</td>\n",
       "      <td>23.6564</td>\n",
       "      <td>27027200.0</td>\n",
       "      <td>11.8360</td>\n",
       "      <td>6526818.0</td>\n",
       "    </tr>\n",
       "    <tr>\n",
       "      <th>2007-01-08</th>\n",
       "      <td>84.628</td>\n",
       "      <td>15407693.0</td>\n",
       "      <td>23.6501</td>\n",
       "      <td>23716200.0</td>\n",
       "      <td>11.8360</td>\n",
       "      <td>6865573.0</td>\n",
       "    </tr>\n",
       "    <tr>\n",
       "      <th>2007-01-09</th>\n",
       "      <td>81.950</td>\n",
       "      <td>32401199.0</td>\n",
       "      <td>23.6501</td>\n",
       "      <td>24606300.0</td>\n",
       "      <td>11.6809</td>\n",
       "      <td>6748401.0</td>\n",
       "    </tr>\n",
       "  </tbody>\n",
       "</table>\n",
       "</div>"
      ],
      "text/plain": [
       "              EQ_P        EQ_V     GE_P        GE_V    DBS_P      DBS_V\n",
       "Date                                                                   \n",
       "2007-01-03  87.440  16310191.0  23.9146  43225000.0  11.7326  2721635.0\n",
       "2007-01-04  84.226  17300051.0  23.7761  31305800.0  11.6293  4095213.0\n",
       "2007-01-05  83.289  21904081.0  23.6564  27027200.0  11.8360  6526818.0\n",
       "2007-01-08  84.628  15407693.0  23.6501  23716200.0  11.8360  6865573.0\n",
       "2007-01-09  81.950  32401199.0  23.6501  24606300.0  11.6809  6748401.0"
      ]
     },
     "execution_count": 44,
     "metadata": {},
     "output_type": "execute_result"
    }
   ],
   "source": [
    "raw_data = pd.read_csv(\"Python A1 Final_Data_Group 6.csv\")\n",
    "data = raw_data.set_index('Date')\n",
    "data.columns=data.columns.get_level_values(0) \n",
    "eq_data = data.dropna()\n",
    "eq_data.index = pd.to_datetime(eq_data.index.astype(str), format = '%Y-%m-%d')\n",
    "eq_data.head()"
   ]
  },
  {
   "cell_type": "code",
   "execution_count": 45,
   "metadata": {},
   "outputs": [
    {
     "data": {
      "text/html": [
       "<div>\n",
       "<style scoped>\n",
       "    .dataframe tbody tr th:only-of-type {\n",
       "        vertical-align: middle;\n",
       "    }\n",
       "\n",
       "    .dataframe tbody tr th {\n",
       "        vertical-align: top;\n",
       "    }\n",
       "\n",
       "    .dataframe thead th {\n",
       "        text-align: right;\n",
       "    }\n",
       "</style>\n",
       "<table border=\"1\" class=\"dataframe\">\n",
       "  <thead>\n",
       "    <tr style=\"text-align: right;\">\n",
       "      <th></th>\n",
       "      <th>EQ_P</th>\n",
       "      <th>EQ_V</th>\n",
       "      <th>GE_P</th>\n",
       "      <th>GE_V</th>\n",
       "      <th>DBS_P</th>\n",
       "      <th>DBS_V</th>\n",
       "      <th>EQ_R</th>\n",
       "      <th>GE_R</th>\n",
       "      <th>DBS_R</th>\n",
       "    </tr>\n",
       "    <tr>\n",
       "      <th>Date</th>\n",
       "      <th></th>\n",
       "      <th></th>\n",
       "      <th></th>\n",
       "      <th></th>\n",
       "      <th></th>\n",
       "      <th></th>\n",
       "      <th></th>\n",
       "      <th></th>\n",
       "      <th></th>\n",
       "    </tr>\n",
       "  </thead>\n",
       "  <tbody>\n",
       "    <tr>\n",
       "      <th>2007-01-04</th>\n",
       "      <td>84.226</td>\n",
       "      <td>17300051.0</td>\n",
       "      <td>23.7761</td>\n",
       "      <td>31305800.0</td>\n",
       "      <td>11.6293</td>\n",
       "      <td>4095213.0</td>\n",
       "      <td>-0.036757</td>\n",
       "      <td>-0.005791</td>\n",
       "      <td>-0.008805</td>\n",
       "    </tr>\n",
       "    <tr>\n",
       "      <th>2007-01-05</th>\n",
       "      <td>83.289</td>\n",
       "      <td>21904081.0</td>\n",
       "      <td>23.6564</td>\n",
       "      <td>27027200.0</td>\n",
       "      <td>11.8360</td>\n",
       "      <td>6526818.0</td>\n",
       "      <td>-0.011125</td>\n",
       "      <td>-0.005034</td>\n",
       "      <td>0.017774</td>\n",
       "    </tr>\n",
       "    <tr>\n",
       "      <th>2007-01-08</th>\n",
       "      <td>84.628</td>\n",
       "      <td>15407693.0</td>\n",
       "      <td>23.6501</td>\n",
       "      <td>23716200.0</td>\n",
       "      <td>11.8360</td>\n",
       "      <td>6865573.0</td>\n",
       "      <td>0.016077</td>\n",
       "      <td>-0.000266</td>\n",
       "      <td>0.000000</td>\n",
       "    </tr>\n",
       "    <tr>\n",
       "      <th>2007-01-09</th>\n",
       "      <td>81.950</td>\n",
       "      <td>32401199.0</td>\n",
       "      <td>23.6501</td>\n",
       "      <td>24606300.0</td>\n",
       "      <td>11.6809</td>\n",
       "      <td>6748401.0</td>\n",
       "      <td>-0.031644</td>\n",
       "      <td>0.000000</td>\n",
       "      <td>-0.013104</td>\n",
       "    </tr>\n",
       "    <tr>\n",
       "      <th>2007-01-10</th>\n",
       "      <td>82.083</td>\n",
       "      <td>24376664.0</td>\n",
       "      <td>23.6564</td>\n",
       "      <td>23996900.0</td>\n",
       "      <td>11.3191</td>\n",
       "      <td>6021007.0</td>\n",
       "      <td>0.001623</td>\n",
       "      <td>0.000266</td>\n",
       "      <td>-0.030974</td>\n",
       "    </tr>\n",
       "  </tbody>\n",
       "</table>\n",
       "</div>"
      ],
      "text/plain": [
       "              EQ_P        EQ_V     GE_P        GE_V    DBS_P      DBS_V  \\\n",
       "Date                                                                      \n",
       "2007-01-04  84.226  17300051.0  23.7761  31305800.0  11.6293  4095213.0   \n",
       "2007-01-05  83.289  21904081.0  23.6564  27027200.0  11.8360  6526818.0   \n",
       "2007-01-08  84.628  15407693.0  23.6501  23716200.0  11.8360  6865573.0   \n",
       "2007-01-09  81.950  32401199.0  23.6501  24606300.0  11.6809  6748401.0   \n",
       "2007-01-10  82.083  24376664.0  23.6564  23996900.0  11.3191  6021007.0   \n",
       "\n",
       "                EQ_R      GE_R     DBS_R  \n",
       "Date                                      \n",
       "2007-01-04 -0.036757 -0.005791 -0.008805  \n",
       "2007-01-05 -0.011125 -0.005034  0.017774  \n",
       "2007-01-08  0.016077 -0.000266  0.000000  \n",
       "2007-01-09 -0.031644  0.000000 -0.013104  \n",
       "2007-01-10  0.001623  0.000266 -0.030974  "
      ]
     },
     "execution_count": 45,
     "metadata": {},
     "output_type": "execute_result"
    }
   ],
   "source": [
    "EQ_P = eq_data [['EQ_P']]\n",
    "GE_P = eq_data [['GE_P']]\n",
    "DBS_P = eq_data [['DBS_P']]\n",
    "\n",
    "EQ_V = eq_data [['EQ_V']]\n",
    "GE_V = eq_data [['GE_V']]\n",
    "DBS_V = eq_data [['DBS_V']]\n",
    "\n",
    "#calculates the returns for each stock in a new column\n",
    "eq_data['EQ_R'] = EQ_P.pct_change() \n",
    "eq_data['GE_R'] = GE_P.pct_change() \n",
    "eq_data['DBS_R'] = DBS_P.pct_change()\n",
    "\n",
    "eq_data = eq_data.dropna()\n",
    "\n",
    "EQ_R = eq_data[['EQ_R']]\n",
    "GE_R = eq_data[['GE_R']]\n",
    "DB_R = eq_data[['DBS_R']]\n",
    "\n",
    "#creates a new data frame with the three stocks\n",
    "St_prices = eq_data [['EQ_P','GE_P','DBS_P']]\n",
    "\n",
    "eq_data.head()"
   ]
  },
  {
   "cell_type": "code",
   "execution_count": 46,
   "metadata": {},
   "outputs": [
    {
     "name": "stdout",
     "output_type": "stream",
     "text": [
      "EQ_P     0.006554\n",
      "GE_P     0.000884\n",
      "DBS_P    0.007966\n",
      "dtype: float64\n",
      "EQ_P     0.063075\n",
      "GE_P     0.082126\n",
      "DBS_P    0.073283\n",
      "dtype: float64\n",
      "           EQ_P      GE_P     DBS_P\n",
      "EQ_P   1.000000  0.221538  0.362961\n",
      "GE_P   0.221538  1.000000  0.421027\n",
      "DBS_P  0.362961  0.421027  1.000000\n"
     ]
    }
   ],
   "source": [
    "dates = pd.date_range('2007-01-01', '2017-12-31')\n",
    "data_for_monthly = pd.DataFrame(St_prices, index = dates) \n",
    "monthly = data_for_monthly.resample('M').last() #creates a data frame with prices at the end of the month\n",
    "\n",
    "print(monthly.pct_change().mean())\n",
    "print(monthly.pct_change().std())\n",
    "print(monthly.pct_change().corr())"
   ]
  },
  {
   "cell_type": "markdown",
   "metadata": {},
   "source": [
    "# Answer 3 - Simple Moving Averages"
   ]
  },
  {
   "cell_type": "code",
   "execution_count": 59,
   "metadata": {},
   "outputs": [
    {
     "data": {
      "text/html": [
       "<div>\n",
       "<style scoped>\n",
       "    .dataframe tbody tr th:only-of-type {\n",
       "        vertical-align: middle;\n",
       "    }\n",
       "\n",
       "    .dataframe tbody tr th {\n",
       "        vertical-align: top;\n",
       "    }\n",
       "\n",
       "    .dataframe thead th {\n",
       "        text-align: right;\n",
       "    }\n",
       "</style>\n",
       "<table border=\"1\" class=\"dataframe\">\n",
       "  <thead>\n",
       "    <tr style=\"text-align: right;\">\n",
       "      <th></th>\n",
       "      <th>DBS_P</th>\n",
       "    </tr>\n",
       "    <tr>\n",
       "      <th>Date</th>\n",
       "      <th></th>\n",
       "    </tr>\n",
       "  </thead>\n",
       "  <tbody>\n",
       "    <tr>\n",
       "      <th>2007-01-04</th>\n",
       "      <td>11.6293</td>\n",
       "    </tr>\n",
       "    <tr>\n",
       "      <th>2007-01-05</th>\n",
       "      <td>11.8360</td>\n",
       "    </tr>\n",
       "    <tr>\n",
       "      <th>2007-01-08</th>\n",
       "      <td>11.8360</td>\n",
       "    </tr>\n",
       "    <tr>\n",
       "      <th>2007-01-09</th>\n",
       "      <td>11.6809</td>\n",
       "    </tr>\n",
       "    <tr>\n",
       "      <th>2007-01-10</th>\n",
       "      <td>11.3191</td>\n",
       "    </tr>\n",
       "  </tbody>\n",
       "</table>\n",
       "</div>"
      ],
      "text/plain": [
       "              DBS_P\n",
       "Date               \n",
       "2007-01-04  11.6293\n",
       "2007-01-05  11.8360\n",
       "2007-01-08  11.8360\n",
       "2007-01-09  11.6809\n",
       "2007-01-10  11.3191"
      ]
     },
     "execution_count": 59,
     "metadata": {},
     "output_type": "execute_result"
    }
   ],
   "source": [
    "SMA1 = 42\n",
    "SMA2 = 252\n",
    "sym = 'DBS_P'\n",
    "Mov_av = pd.DataFrame(St_prices[sym])\n",
    "Mov_av.head()"
   ]
  },
  {
   "cell_type": "code",
   "execution_count": 60,
   "metadata": {},
   "outputs": [
    {
     "data": {
      "text/html": [
       "<div>\n",
       "<style scoped>\n",
       "    .dataframe tbody tr th:only-of-type {\n",
       "        vertical-align: middle;\n",
       "    }\n",
       "\n",
       "    .dataframe tbody tr th {\n",
       "        vertical-align: top;\n",
       "    }\n",
       "\n",
       "    .dataframe thead th {\n",
       "        text-align: right;\n",
       "    }\n",
       "</style>\n",
       "<table border=\"1\" class=\"dataframe\">\n",
       "  <thead>\n",
       "    <tr style=\"text-align: right;\">\n",
       "      <th></th>\n",
       "      <th>DBS_P</th>\n",
       "      <th>SMA1</th>\n",
       "      <th>SMA2</th>\n",
       "    </tr>\n",
       "    <tr>\n",
       "      <th>Date</th>\n",
       "      <th></th>\n",
       "      <th></th>\n",
       "      <th></th>\n",
       "    </tr>\n",
       "  </thead>\n",
       "  <tbody>\n",
       "    <tr>\n",
       "      <th>2017-12-21</th>\n",
       "      <td>22.1348</td>\n",
       "      <td>21.638252</td>\n",
       "      <td>18.239913</td>\n",
       "    </tr>\n",
       "    <tr>\n",
       "      <th>2017-12-22</th>\n",
       "      <td>22.2881</td>\n",
       "      <td>21.698790</td>\n",
       "      <td>18.265314</td>\n",
       "    </tr>\n",
       "    <tr>\n",
       "      <th>2017-12-27</th>\n",
       "      <td>22.4323</td>\n",
       "      <td>21.756321</td>\n",
       "      <td>18.290732</td>\n",
       "    </tr>\n",
       "    <tr>\n",
       "      <th>2017-12-28</th>\n",
       "      <td>22.4504</td>\n",
       "      <td>21.811064</td>\n",
       "      <td>18.316846</td>\n",
       "    </tr>\n",
       "    <tr>\n",
       "      <th>2017-12-29</th>\n",
       "      <td>22.4053</td>\n",
       "      <td>21.857648</td>\n",
       "      <td>18.343858</td>\n",
       "    </tr>\n",
       "  </tbody>\n",
       "</table>\n",
       "</div>"
      ],
      "text/plain": [
       "              DBS_P       SMA1       SMA2\n",
       "Date                                     \n",
       "2017-12-21  22.1348  21.638252  18.239913\n",
       "2017-12-22  22.2881  21.698790  18.265314\n",
       "2017-12-27  22.4323  21.756321  18.290732\n",
       "2017-12-28  22.4504  21.811064  18.316846\n",
       "2017-12-29  22.4053  21.857648  18.343858"
      ]
     },
     "execution_count": 60,
     "metadata": {},
     "output_type": "execute_result"
    }
   ],
   "source": [
    "Mov_av['SMA1']=St_prices[sym].rolling(window=SMA1).mean() \n",
    "Mov_av['SMA2']=St_prices[sym].rolling(window=SMA2).mean() \n",
    "Mov_av.tail()"
   ]
  },
  {
   "cell_type": "code",
   "execution_count": 61,
   "metadata": {},
   "outputs": [],
   "source": [
    "Mov_av['Position']=np.where(Mov_av['SMA1']>Mov_av['SMA2'],1,-1) #creates a new column 'Position'; 1 means buy, -1 means sell"
   ]
  },
  {
   "cell_type": "code",
   "execution_count": 62,
   "metadata": {},
   "outputs": [
    {
     "data": {
      "text/plain": [
       "<matplotlib.axes._subplots.AxesSubplot at 0x1cc8ef71c50>"
      ]
     },
     "execution_count": 62,
     "metadata": {},
     "output_type": "execute_result"
    },
    {
     "data": {
      "image/png": "[encoded data removed]",
      "text/plain": [
       "<Figure size 864x432 with 2 Axes>"
      ]
     },
     "metadata": {
      "needs_background": "light"
     },
     "output_type": "display_data"
    }
   ],
   "source": [
    "Mov_av.plot(figsize= (12,6), secondary_y = 'Position', title = 'Moving Average Strategy')"
   ]
  },
  {
   "cell_type": "code",
   "execution_count": 63,
   "metadata": {},
   "outputs": [
    {
     "data": {
      "text/html": [
       "<div>\n",
       "<style scoped>\n",
       "    .dataframe tbody tr th:only-of-type {\n",
       "        vertical-align: middle;\n",
       "    }\n",
       "\n",
       "    .dataframe tbody tr th {\n",
       "        vertical-align: top;\n",
       "    }\n",
       "\n",
       "    .dataframe thead th {\n",
       "        text-align: right;\n",
       "    }\n",
       "</style>\n",
       "<table border=\"1\" class=\"dataframe\">\n",
       "  <thead>\n",
       "    <tr style=\"text-align: right;\">\n",
       "      <th></th>\n",
       "      <th>Returns</th>\n",
       "      <th>Strategy</th>\n",
       "    </tr>\n",
       "    <tr>\n",
       "      <th>Date</th>\n",
       "      <th></th>\n",
       "      <th></th>\n",
       "    </tr>\n",
       "  </thead>\n",
       "  <tbody>\n",
       "    <tr>\n",
       "      <th>2007-01-04</th>\n",
       "      <td>NaN</td>\n",
       "      <td>NaN</td>\n",
       "    </tr>\n",
       "    <tr>\n",
       "      <th>2007-01-05</th>\n",
       "      <td>1.017774</td>\n",
       "      <td>0.982226</td>\n",
       "    </tr>\n",
       "    <tr>\n",
       "      <th>2007-01-08</th>\n",
       "      <td>1.017774</td>\n",
       "      <td>0.982226</td>\n",
       "    </tr>\n",
       "    <tr>\n",
       "      <th>2007-01-09</th>\n",
       "      <td>1.004437</td>\n",
       "      <td>0.995097</td>\n",
       "    </tr>\n",
       "    <tr>\n",
       "      <th>2007-01-10</th>\n",
       "      <td>0.973326</td>\n",
       "      <td>1.025919</td>\n",
       "    </tr>\n",
       "  </tbody>\n",
       "</table>\n",
       "</div>"
      ],
      "text/plain": [
       "             Returns  Strategy\n",
       "Date                          \n",
       "2007-01-04       NaN       NaN\n",
       "2007-01-05  1.017774  0.982226\n",
       "2007-01-08  1.017774  0.982226\n",
       "2007-01-09  1.004437  0.995097\n",
       "2007-01-10  0.973326  1.025919"
      ]
     },
     "execution_count": 63,
     "metadata": {},
     "output_type": "execute_result"
    }
   ],
   "source": [
    "Mov_av['Returns'] = Mov_av[sym].pct_change()\n",
    "Mov_av['Strategy']=Mov_av['Returns']*(Mov_av['Position'].shift(1)) #daily strategy return is equal to returns * previous day's position\n",
    "(1+Mov_av[['Returns','Strategy']]).prod() #calculates cumulative returns\n",
    "compare_sma=(1+Mov_av[['Returns','Strategy']]).cumprod()\n",
    "compare_sma.head()"
   ]
  },
  {
   "cell_type": "code",
   "execution_count": 64,
   "metadata": {},
   "outputs": [
    {
     "data": {
      "text/plain": [
       "<matplotlib.axes._subplots.AxesSubplot at 0x1cc8f02dba8>"
      ]
     },
     "execution_count": 64,
     "metadata": {},
     "output_type": "execute_result"
    },
    {
     "data": {
      "image/png": "[encoded data removed]",
      "text/plain": [
       "<Figure size 864x432 with 1 Axes>"
      ]
     },
     "metadata": {
      "needs_background": "light"
     },
     "output_type": "display_data"
    }
   ],
   "source": [
    "Mov_av=data.dropna()\n",
    "compare_sma.plot(figsize=(12,6), title = 'SMA vs Buy & Hold')"
   ]
  },
  {
   "cell_type": "code",
   "execution_count": 65,
   "metadata": {},
   "outputs": [],
   "source": [
    "sma1=range(20,61,4)\n",
    "sma2=range(180,281,10) \n",
    "results = pd.DataFrame()"
   ]
  },
  {
   "cell_type": "code",
   "execution_count": 66,
   "metadata": {},
   "outputs": [
    {
     "data": {
      "text/html": [
       "<div>\n",
       "<style scoped>\n",
       "    .dataframe tbody tr th:only-of-type {\n",
       "        vertical-align: middle;\n",
       "    }\n",
       "\n",
       "    .dataframe tbody tr th {\n",
       "        vertical-align: top;\n",
       "    }\n",
       "\n",
       "    .dataframe thead th {\n",
       "        text-align: right;\n",
       "    }\n",
       "</style>\n",
       "<table border=\"1\" class=\"dataframe\">\n",
       "  <thead>\n",
       "    <tr style=\"text-align: right;\">\n",
       "      <th></th>\n",
       "      <th>SMA1</th>\n",
       "      <th>SMA2</th>\n",
       "      <th>MARKET</th>\n",
       "      <th>STRATEGY</th>\n",
       "      <th>OUT</th>\n",
       "    </tr>\n",
       "  </thead>\n",
       "  <tbody>\n",
       "    <tr>\n",
       "      <th>0</th>\n",
       "      <td>20</td>\n",
       "      <td>180</td>\n",
       "      <td>1.949830</td>\n",
       "      <td>1.825473</td>\n",
       "      <td>-0.124357</td>\n",
       "    </tr>\n",
       "    <tr>\n",
       "      <th>1</th>\n",
       "      <td>20</td>\n",
       "      <td>190</td>\n",
       "      <td>1.880191</td>\n",
       "      <td>1.561766</td>\n",
       "      <td>-0.318425</td>\n",
       "    </tr>\n",
       "    <tr>\n",
       "      <th>2</th>\n",
       "      <td>20</td>\n",
       "      <td>200</td>\n",
       "      <td>1.914378</td>\n",
       "      <td>1.589320</td>\n",
       "      <td>-0.325057</td>\n",
       "    </tr>\n",
       "    <tr>\n",
       "      <th>3</th>\n",
       "      <td>20</td>\n",
       "      <td>210</td>\n",
       "      <td>2.107286</td>\n",
       "      <td>1.819152</td>\n",
       "      <td>-0.288135</td>\n",
       "    </tr>\n",
       "    <tr>\n",
       "      <th>4</th>\n",
       "      <td>20</td>\n",
       "      <td>220</td>\n",
       "      <td>2.173141</td>\n",
       "      <td>2.018993</td>\n",
       "      <td>-0.154148</td>\n",
       "    </tr>\n",
       "  </tbody>\n",
       "</table>\n",
       "</div>"
      ],
      "text/plain": [
       "   SMA1  SMA2    MARKET  STRATEGY       OUT\n",
       "0    20   180  1.949830  1.825473 -0.124357\n",
       "1    20   190  1.880191  1.561766 -0.318425\n",
       "2    20   200  1.914378  1.589320 -0.325057\n",
       "3    20   210  2.107286  1.819152 -0.288135\n",
       "4    20   220  2.173141  2.018993 -0.154148"
      ]
     },
     "execution_count": 66,
     "metadata": {},
     "output_type": "execute_result"
    }
   ],
   "source": [
    "for SMA1, SMA2 in product(sma1,sma2):\n",
    "    mva = pd.DataFrame(raw_data[sym])\n",
    "    mva.dropna(inplace=True)\n",
    "    mva['Returns']= mva[sym].pct_change()\n",
    "    mva['SMA1'] = mva[sym].rolling(SMA1).mean()\n",
    "    mva['SMA2'] = mva[sym].rolling(SMA2).mean()\n",
    "    mva = mva.dropna()\n",
    "    mva['Position'] = np.where(mva['SMA1'] > mva['SMA2'], 1, -1)\n",
    "    mva['Strategy'] = mva['Position'].shift(1) * mva['Returns']\n",
    "    mva = mva.dropna()\n",
    "    perf = (1+mva[['Returns', 'Strategy']]).prod() #performance equals to cumulative return products\n",
    "    \n",
    "    #the statements below record the results\n",
    "    results = results.append(pd.DataFrame(\n",
    "    {'SMA1': SMA1, 'SMA2': SMA2,\n",
    "    'MARKET': perf['Returns'],\n",
    "    'STRATEGY': perf['Strategy'],\n",
    "    'OUT': perf['Strategy'] - perf['Returns']},\n",
    "    index=[0]), ignore_index=True)\n",
    "    \n",
    "results.head()"
   ]
  },
  {
   "cell_type": "code",
   "execution_count": 69,
   "metadata": {},
   "outputs": [
    {
     "data": {
      "text/html": [
       "<div>\n",
       "<style scoped>\n",
       "    .dataframe tbody tr th:only-of-type {\n",
       "        vertical-align: middle;\n",
       "    }\n",
       "\n",
       "    .dataframe tbody tr th {\n",
       "        vertical-align: top;\n",
       "    }\n",
       "\n",
       "    .dataframe thead th {\n",
       "        text-align: right;\n",
       "    }\n",
       "</style>\n",
       "<table border=\"1\" class=\"dataframe\">\n",
       "  <thead>\n",
       "    <tr style=\"text-align: right;\">\n",
       "      <th></th>\n",
       "      <th>SMA1</th>\n",
       "      <th>SMA2</th>\n",
       "      <th>MARKET</th>\n",
       "      <th>STRATEGY</th>\n",
       "      <th>OUT</th>\n",
       "    </tr>\n",
       "  </thead>\n",
       "  <tbody>\n",
       "    <tr>\n",
       "      <th>19</th>\n",
       "      <td>24</td>\n",
       "      <td>260</td>\n",
       "      <td>2.400705</td>\n",
       "      <td>1.527387</td>\n",
       "      <td>-0.873318</td>\n",
       "    </tr>\n",
       "    <tr>\n",
       "      <th>37</th>\n",
       "      <td>32</td>\n",
       "      <td>220</td>\n",
       "      <td>2.173141</td>\n",
       "      <td>1.281991</td>\n",
       "      <td>-0.891150</td>\n",
       "    </tr>\n",
       "    <tr>\n",
       "      <th>30</th>\n",
       "      <td>28</td>\n",
       "      <td>260</td>\n",
       "      <td>2.400705</td>\n",
       "      <td>1.506134</td>\n",
       "      <td>-0.894571</td>\n",
       "    </tr>\n",
       "    <tr>\n",
       "      <th>109</th>\n",
       "      <td>56</td>\n",
       "      <td>280</td>\n",
       "      <td>2.425840</td>\n",
       "      <td>1.502035</td>\n",
       "      <td>-0.923805</td>\n",
       "    </tr>\n",
       "    <tr>\n",
       "      <th>120</th>\n",
       "      <td>60</td>\n",
       "      <td>280</td>\n",
       "      <td>2.425840</td>\n",
       "      <td>1.430708</td>\n",
       "      <td>-0.995132</td>\n",
       "    </tr>\n",
       "  </tbody>\n",
       "</table>\n",
       "</div>"
      ],
      "text/plain": [
       "     SMA1  SMA2    MARKET  STRATEGY       OUT\n",
       "19     24   260  2.400705  1.527387 -0.873318\n",
       "37     32   220  2.173141  1.281991 -0.891150\n",
       "30     28   260  2.400705  1.506134 -0.894571\n",
       "109    56   280  2.425840  1.502035 -0.923805\n",
       "120    60   280  2.425840  1.430708 -0.995132"
      ]
     },
     "execution_count": 69,
     "metadata": {},
     "output_type": "execute_result"
    }
   ],
   "source": [
    "results.sort_values('OUT',ascending=False).tail() #sort by performance, print the best five"
   ]
  },
  {
   "cell_type": "code",
   "execution_count": 68,
   "metadata": {},
   "outputs": [
    {
     "data": {
      "text/html": [
       "<div>\n",
       "<style scoped>\n",
       "    .dataframe tbody tr th:only-of-type {\n",
       "        vertical-align: middle;\n",
       "    }\n",
       "\n",
       "    .dataframe tbody tr th {\n",
       "        vertical-align: top;\n",
       "    }\n",
       "\n",
       "    .dataframe thead th {\n",
       "        text-align: right;\n",
       "    }\n",
       "</style>\n",
       "<table border=\"1\" class=\"dataframe\">\n",
       "  <thead>\n",
       "    <tr style=\"text-align: right;\">\n",
       "      <th></th>\n",
       "      <th>EQ_P</th>\n",
       "      <th>EQ_V</th>\n",
       "      <th>GE_P</th>\n",
       "      <th>GE_V</th>\n",
       "      <th>DBS_P</th>\n",
       "      <th>DBS_V</th>\n",
       "      <th>EQ_R</th>\n",
       "      <th>GE_R</th>\n",
       "      <th>DBS_R</th>\n",
       "    </tr>\n",
       "    <tr>\n",
       "      <th>Date</th>\n",
       "      <th></th>\n",
       "      <th></th>\n",
       "      <th></th>\n",
       "      <th></th>\n",
       "      <th></th>\n",
       "      <th></th>\n",
       "      <th></th>\n",
       "      <th></th>\n",
       "      <th></th>\n",
       "    </tr>\n",
       "  </thead>\n",
       "  <tbody>\n",
       "    <tr>\n",
       "      <th>2007-01-04</th>\n",
       "      <td>84.226</td>\n",
       "      <td>17300051.0</td>\n",
       "      <td>23.7761</td>\n",
       "      <td>31305800.0</td>\n",
       "      <td>11.6293</td>\n",
       "      <td>4095213.0</td>\n",
       "      <td>-0.036757</td>\n",
       "      <td>-0.005791</td>\n",
       "      <td>-0.008805</td>\n",
       "    </tr>\n",
       "    <tr>\n",
       "      <th>2007-01-05</th>\n",
       "      <td>83.289</td>\n",
       "      <td>21904081.0</td>\n",
       "      <td>23.6564</td>\n",
       "      <td>27027200.0</td>\n",
       "      <td>11.8360</td>\n",
       "      <td>6526818.0</td>\n",
       "      <td>-0.011125</td>\n",
       "      <td>-0.005034</td>\n",
       "      <td>0.017774</td>\n",
       "    </tr>\n",
       "    <tr>\n",
       "      <th>2007-01-08</th>\n",
       "      <td>84.628</td>\n",
       "      <td>15407693.0</td>\n",
       "      <td>23.6501</td>\n",
       "      <td>23716200.0</td>\n",
       "      <td>11.8360</td>\n",
       "      <td>6865573.0</td>\n",
       "      <td>0.016077</td>\n",
       "      <td>-0.000266</td>\n",
       "      <td>0.000000</td>\n",
       "    </tr>\n",
       "    <tr>\n",
       "      <th>2007-01-09</th>\n",
       "      <td>81.950</td>\n",
       "      <td>32401199.0</td>\n",
       "      <td>23.6501</td>\n",
       "      <td>24606300.0</td>\n",
       "      <td>11.6809</td>\n",
       "      <td>6748401.0</td>\n",
       "      <td>-0.031644</td>\n",
       "      <td>0.000000</td>\n",
       "      <td>-0.013104</td>\n",
       "    </tr>\n",
       "    <tr>\n",
       "      <th>2007-01-10</th>\n",
       "      <td>82.083</td>\n",
       "      <td>24376664.0</td>\n",
       "      <td>23.6564</td>\n",
       "      <td>23996900.0</td>\n",
       "      <td>11.3191</td>\n",
       "      <td>6021007.0</td>\n",
       "      <td>0.001623</td>\n",
       "      <td>0.000266</td>\n",
       "      <td>-0.030974</td>\n",
       "    </tr>\n",
       "  </tbody>\n",
       "</table>\n",
       "</div>"
      ],
      "text/plain": [
       "              EQ_P        EQ_V     GE_P        GE_V    DBS_P      DBS_V  \\\n",
       "Date                                                                      \n",
       "2007-01-04  84.226  17300051.0  23.7761  31305800.0  11.6293  4095213.0   \n",
       "2007-01-05  83.289  21904081.0  23.6564  27027200.0  11.8360  6526818.0   \n",
       "2007-01-08  84.628  15407693.0  23.6501  23716200.0  11.8360  6865573.0   \n",
       "2007-01-09  81.950  32401199.0  23.6501  24606300.0  11.6809  6748401.0   \n",
       "2007-01-10  82.083  24376664.0  23.6564  23996900.0  11.3191  6021007.0   \n",
       "\n",
       "                EQ_R      GE_R     DBS_R  \n",
       "Date                                      \n",
       "2007-01-04 -0.036757 -0.005791 -0.008805  \n",
       "2007-01-05 -0.011125 -0.005034  0.017774  \n",
       "2007-01-08  0.016077 -0.000266  0.000000  \n",
       "2007-01-09 -0.031644  0.000000 -0.013104  \n",
       "2007-01-10  0.001623  0.000266 -0.030974  "
      ]
     },
     "execution_count": 68,
     "metadata": {},
     "output_type": "execute_result"
    }
   ],
   "source": [
    "eq_data.head()"
   ]
  },
  {
   "cell_type": "markdown",
   "metadata": {},
   "source": [
    "# Answer 3 - Bollinger Bands"
   ]
  },
  {
   "cell_type": "code",
   "execution_count": 153,
   "metadata": {},
   "outputs": [
    {
     "data": {
      "text/html": [
       "<div>\n",
       "<style scoped>\n",
       "    .dataframe tbody tr th:only-of-type {\n",
       "        vertical-align: middle;\n",
       "    }\n",
       "\n",
       "    .dataframe tbody tr th {\n",
       "        vertical-align: top;\n",
       "    }\n",
       "\n",
       "    .dataframe thead th {\n",
       "        text-align: right;\n",
       "    }\n",
       "</style>\n",
       "<table border=\"1\" class=\"dataframe\">\n",
       "  <thead>\n",
       "    <tr style=\"text-align: right;\">\n",
       "      <th></th>\n",
       "      <th>EQ_P</th>\n",
       "    </tr>\n",
       "    <tr>\n",
       "      <th>Date</th>\n",
       "      <th></th>\n",
       "    </tr>\n",
       "  </thead>\n",
       "  <tbody>\n",
       "    <tr>\n",
       "      <th>2007-01-03</th>\n",
       "      <td>87.440</td>\n",
       "    </tr>\n",
       "    <tr>\n",
       "      <th>2007-01-04</th>\n",
       "      <td>84.226</td>\n",
       "    </tr>\n",
       "    <tr>\n",
       "      <th>2007-01-05</th>\n",
       "      <td>83.289</td>\n",
       "    </tr>\n",
       "    <tr>\n",
       "      <th>2007-01-08</th>\n",
       "      <td>84.628</td>\n",
       "    </tr>\n",
       "    <tr>\n",
       "      <th>2007-01-09</th>\n",
       "      <td>81.950</td>\n",
       "    </tr>\n",
       "  </tbody>\n",
       "</table>\n",
       "</div>"
      ],
      "text/plain": [
       "              EQ_P\n",
       "Date              \n",
       "2007-01-03  87.440\n",
       "2007-01-04  84.226\n",
       "2007-01-05  83.289\n",
       "2007-01-08  84.628\n",
       "2007-01-09  81.950"
      ]
     },
     "execution_count": 153,
     "metadata": {},
     "output_type": "execute_result"
    }
   ],
   "source": [
    "sym2= 'EQ_P'\n",
    "bb_data = pd.DataFrame(data[sym2])\n",
    "days_for_bb = 20\n",
    "results = pd.DataFrame()\n",
    "bb_data.head()"
   ]
  },
  {
   "cell_type": "code",
   "execution_count": 154,
   "metadata": {},
   "outputs": [],
   "source": [
    "bb_data.dropna(inplace=True)\n",
    "bb_data['Returns']= bb_data[sym2].pct_change()\n",
    "bb_data['BMA'] = bb_data[sym2].rolling(days_for_bb).mean()\n",
    "bb_data['BStd'] = bb_data[sym2].rolling(days_for_bb).std()\n",
    "bb_data ['Upper Band'] = bb_data ['BMA'] + (bb_data ['BStd']*2)\n",
    "bb_data ['Lower Band'] = bb_data ['BMA'] - (bb_data ['BStd']*2)\n",
    "bb_data = bb_data.dropna()"
   ]
  },
  {
   "cell_type": "code",
   "execution_count": 155,
   "metadata": {},
   "outputs": [
    {
     "data": {
      "text/plain": [
       "<matplotlib.axes._subplots.AxesSubplot at 0x23ddd9a30f0>"
      ]
     },
     "execution_count": 155,
     "metadata": {},
     "output_type": "execute_result"
    },
    {
     "data": {
      "image/png": "[encoded data removed]",
      "text/plain": [
       "<Figure size 1008x432 with 1 Axes>"
      ]
     },
     "metadata": {
      "needs_background": "light"
     },
     "output_type": "display_data"
    }
   ],
   "source": [
    "bb_data[[sym2, 'BMA', 'Upper Band', 'Lower Band']].plot(figsize = (14,6), title = 'Bollinger Band Strategy')"
   ]
  },
  {
   "cell_type": "code",
   "execution_count": 156,
   "metadata": {},
   "outputs": [
    {
     "name": "stderr",
     "output_type": "stream",
     "text": [
      "C:\\Users\\Shariq\\Anaconda3\\lib\\site-packages\\pandas\\core\\indexing.py:190: SettingWithCopyWarning: \n",
      "A value is trying to be set on a copy of a slice from a DataFrame\n",
      "\n",
      "See the caveats in the documentation: http://pandas.pydata.org/pandas-docs/stable/indexing.html#indexing-view-versus-copy\n",
      "  self._setitem_with_indexer(indexer, value)\n"
     ]
    },
    {
     "data": {
      "text/html": [
       "<div>\n",
       "<style scoped>\n",
       "    .dataframe tbody tr th:only-of-type {\n",
       "        vertical-align: middle;\n",
       "    }\n",
       "\n",
       "    .dataframe tbody tr th {\n",
       "        vertical-align: top;\n",
       "    }\n",
       "\n",
       "    .dataframe thead th {\n",
       "        text-align: right;\n",
       "    }\n",
       "</style>\n",
       "<table border=\"1\" class=\"dataframe\">\n",
       "  <thead>\n",
       "    <tr style=\"text-align: right;\">\n",
       "      <th></th>\n",
       "      <th>EQ_P</th>\n",
       "      <th>Returns</th>\n",
       "      <th>BMA</th>\n",
       "      <th>BStd</th>\n",
       "      <th>Upper Band</th>\n",
       "      <th>Lower Band</th>\n",
       "      <th>Position</th>\n",
       "    </tr>\n",
       "    <tr>\n",
       "      <th>Date</th>\n",
       "      <th></th>\n",
       "      <th></th>\n",
       "      <th></th>\n",
       "      <th></th>\n",
       "      <th></th>\n",
       "      <th></th>\n",
       "      <th></th>\n",
       "    </tr>\n",
       "  </thead>\n",
       "  <tbody>\n",
       "    <tr>\n",
       "      <th>2007-01-31</th>\n",
       "      <td>89.180</td>\n",
       "      <td>0.007558</td>\n",
       "      <td>85.53150</td>\n",
       "      <td>2.342380</td>\n",
       "      <td>90.216259</td>\n",
       "      <td>80.846741</td>\n",
       "      <td>NaN</td>\n",
       "    </tr>\n",
       "    <tr>\n",
       "      <th>2007-02-01</th>\n",
       "      <td>89.180</td>\n",
       "      <td>0.000000</td>\n",
       "      <td>85.61850</td>\n",
       "      <td>2.446973</td>\n",
       "      <td>90.512447</td>\n",
       "      <td>80.724553</td>\n",
       "      <td>NaN</td>\n",
       "    </tr>\n",
       "    <tr>\n",
       "      <th>2007-02-02</th>\n",
       "      <td>89.314</td>\n",
       "      <td>0.001503</td>\n",
       "      <td>85.87290</td>\n",
       "      <td>2.556613</td>\n",
       "      <td>90.986127</td>\n",
       "      <td>80.759673</td>\n",
       "      <td>NaN</td>\n",
       "    </tr>\n",
       "    <tr>\n",
       "      <th>2007-02-05</th>\n",
       "      <td>89.716</td>\n",
       "      <td>0.004501</td>\n",
       "      <td>86.19425</td>\n",
       "      <td>2.617921</td>\n",
       "      <td>91.430093</td>\n",
       "      <td>80.958407</td>\n",
       "      <td>NaN</td>\n",
       "    </tr>\n",
       "    <tr>\n",
       "      <th>2007-02-06</th>\n",
       "      <td>88.913</td>\n",
       "      <td>-0.008950</td>\n",
       "      <td>86.40850</td>\n",
       "      <td>2.658028</td>\n",
       "      <td>91.724556</td>\n",
       "      <td>81.092444</td>\n",
       "      <td>NaN</td>\n",
       "    </tr>\n",
       "  </tbody>\n",
       "</table>\n",
       "</div>"
      ],
      "text/plain": [
       "              EQ_P   Returns       BMA      BStd  Upper Band  Lower Band  \\\n",
       "Date                                                                       \n",
       "2007-01-31  89.180  0.007558  85.53150  2.342380   90.216259   80.846741   \n",
       "2007-02-01  89.180  0.000000  85.61850  2.446973   90.512447   80.724553   \n",
       "2007-02-02  89.314  0.001503  85.87290  2.556613   90.986127   80.759673   \n",
       "2007-02-05  89.716  0.004501  86.19425  2.617921   91.430093   80.958407   \n",
       "2007-02-06  88.913 -0.008950  86.40850  2.658028   91.724556   81.092444   \n",
       "\n",
       "            Position  \n",
       "Date                  \n",
       "2007-01-31       NaN  \n",
       "2007-02-01       NaN  \n",
       "2007-02-02       NaN  \n",
       "2007-02-05       NaN  \n",
       "2007-02-06       NaN  "
      ]
     },
     "execution_count": 156,
     "metadata": {},
     "output_type": "execute_result"
    }
   ],
   "source": [
    "bb_data['Position'] = None\n",
    "for row in range(len(bb_data)):\n",
    "    if (bb_data[sym2].iloc[row]>bb_data['Upper Band'].iloc[row]) and (bb_data[sym2].iloc[row-1]<bb_data['Upper Band'].iloc[row-1]):\n",
    "        bb_data['Position'].iloc[row]=-1\n",
    "    if (bb_data[sym2].iloc[row]<bb_data['Lower Band'].iloc[row]) and (bb_data[sym2].iloc[row-1]>bb_data['Lower Band'].iloc[row-1]):\n",
    "        bb_data['Position'].iloc[row]=1\n",
    "bb_data['Position'].fillna(method='ffill',inplace=True)\n",
    "bb_data.head()"
   ]
  },
  {
   "cell_type": "code",
   "execution_count": 157,
   "metadata": {},
   "outputs": [
    {
     "data": {
      "text/plain": [
       "Returns     1.916885\n",
       "Strategy    0.344448\n",
       "dtype: float64"
      ]
     },
     "execution_count": 157,
     "metadata": {},
     "output_type": "execute_result"
    }
   ],
   "source": [
    "bb_data['Strategy'] = (bb_data['Position'].shift(1) * bb_data['Returns'])\n",
    "bb_data = bb_data.dropna()\n",
    "perf = (1+bb_data[['Returns', 'Strategy']]).prod() #performance equals to cumulative return products\n",
    "    \n",
    "perf"
   ]
  },
  {
   "cell_type": "code",
   "execution_count": 158,
   "metadata": {},
   "outputs": [
    {
     "data": {
      "text/plain": [
       "<matplotlib.axes._subplots.AxesSubplot at 0x23ddd7ff748>"
      ]
     },
     "execution_count": 158,
     "metadata": {},
     "output_type": "execute_result"
    },
    {
     "data": {
      "image/png": "[encoded data removed]",
      "text/plain": [
       "<Figure size 864x432 with 1 Axes>"
      ]
     },
     "metadata": {
      "needs_background": "light"
     },
     "output_type": "display_data"
    }
   ],
   "source": [
    "compare_bb=(1+bb_data[['Returns','Strategy']]).cumprod()\n",
    "compare_bb.plot(figsize = (12,6), title = 'BB vs Buy & Hold')"
   ]
  },
  {
   "cell_type": "code",
   "execution_count": 159,
   "metadata": {},
   "outputs": [],
   "source": [
    "days = range(10,101,10)\n",
    "results = pd.DataFrame()"
   ]
  },
  {
   "cell_type": "code",
   "execution_count": 160,
   "metadata": {},
   "outputs": [],
   "source": [
    "for d in days:\n",
    "    bb_data2 = pd.DataFrame(raw_data[sym2])\n",
    "    bb_data2.head()\n",
    "    bb_data2.dropna(inplace=True)\n",
    "    bb_data2['Returns']=bb_data2[sym2].pct_change()\n",
    "    bb_data2['BMA'] = bb_data2[sym2].rolling(d).mean()\n",
    "    bb_data2['BStd'] = bb_data2[sym2].rolling(d).std()\n",
    "    bb_data2 ['Upper Band'] = bb_data2 ['BMA'] + (bb_data2 ['BStd']*2)\n",
    "    bb_data2 ['Lower Band'] = bb_data2 ['BMA'] - (bb_data2 ['BStd']*2)\n",
    "    bb_data2 = bb_data2.dropna()\n",
    "    bb_data2['Position'] = None\n",
    "    for row in range(len(bb_data2)):\n",
    "        if (bb_data2[sym2].iloc[row]>bb_data2['Upper Band'].iloc[row]) and (bb_data2[sym2].iloc[row-1]<bb_data2['Upper Band'].iloc[row-1]):\n",
    "            bb_data2['Position'].iloc[row]=-1\n",
    "        if (bb_data2[sym2].iloc[row]<bb_data2['Lower Band'].iloc[row]) and (bb_data2[sym2].iloc[row-1]>bb_data2['Lower Band'].iloc[row-1]):\n",
    "            bb_data2['Position'].iloc[row]=1    \n",
    "    bb_data2['Position'].fillna(method='ffill',inplace=True)\n",
    "    bb_data2['Strategy'] = (bb_data2['Position'].shift(1) * bb_data2['Returns'])\n",
    "    bb_data2 = bb_data2.dropna()\n",
    "    perf = (1+bb_data2[['Returns', 'Strategy']]).prod() #performance equals to cumulative return products\n",
    "    results = results.append(pd.DataFrame( {'MARKET' : perf['Returns'], 'STRATEGY': perf['Strategy'], 'OUT': perf['Strategy']- perf['Returns'], 'DAYS': d}, index =['Date']), ignore_index = True)"
   ]
  },
  {
   "cell_type": "code",
   "execution_count": 161,
   "metadata": {},
   "outputs": [
    {
     "data": {
      "text/html": [
       "<div>\n",
       "<style scoped>\n",
       "    .dataframe tbody tr th:only-of-type {\n",
       "        vertical-align: middle;\n",
       "    }\n",
       "\n",
       "    .dataframe tbody tr th {\n",
       "        vertical-align: top;\n",
       "    }\n",
       "\n",
       "    .dataframe thead th {\n",
       "        text-align: right;\n",
       "    }\n",
       "</style>\n",
       "<table border=\"1\" class=\"dataframe\">\n",
       "  <thead>\n",
       "    <tr style=\"text-align: right;\">\n",
       "      <th></th>\n",
       "      <th>MARKET</th>\n",
       "      <th>STRATEGY</th>\n",
       "      <th>OUT</th>\n",
       "      <th>DAYS</th>\n",
       "    </tr>\n",
       "  </thead>\n",
       "  <tbody>\n",
       "    <tr>\n",
       "      <th>0</th>\n",
       "      <td>1.898896</td>\n",
       "      <td>0.992948</td>\n",
       "      <td>-0.905948</td>\n",
       "      <td>10</td>\n",
       "    </tr>\n",
       "    <tr>\n",
       "      <th>1</th>\n",
       "      <td>1.916885</td>\n",
       "      <td>0.344448</td>\n",
       "      <td>-1.572437</td>\n",
       "      <td>20</td>\n",
       "    </tr>\n",
       "    <tr>\n",
       "      <th>2</th>\n",
       "      <td>1.985907</td>\n",
       "      <td>0.544240</td>\n",
       "      <td>-1.441668</td>\n",
       "      <td>30</td>\n",
       "    </tr>\n",
       "    <tr>\n",
       "      <th>3</th>\n",
       "      <td>1.697565</td>\n",
       "      <td>0.590112</td>\n",
       "      <td>-1.107452</td>\n",
       "      <td>40</td>\n",
       "    </tr>\n",
       "    <tr>\n",
       "      <th>4</th>\n",
       "      <td>1.733424</td>\n",
       "      <td>0.657412</td>\n",
       "      <td>-1.076012</td>\n",
       "      <td>50</td>\n",
       "    </tr>\n",
       "    <tr>\n",
       "      <th>5</th>\n",
       "      <td>1.733424</td>\n",
       "      <td>1.250868</td>\n",
       "      <td>-0.482555</td>\n",
       "      <td>60</td>\n",
       "    </tr>\n",
       "    <tr>\n",
       "      <th>6</th>\n",
       "      <td>1.773963</td>\n",
       "      <td>0.715755</td>\n",
       "      <td>-1.058208</td>\n",
       "      <td>70</td>\n",
       "    </tr>\n",
       "    <tr>\n",
       "      <th>7</th>\n",
       "      <td>1.750927</td>\n",
       "      <td>1.608007</td>\n",
       "      <td>-0.142920</td>\n",
       "      <td>80</td>\n",
       "    </tr>\n",
       "    <tr>\n",
       "      <th>8</th>\n",
       "      <td>1.717864</td>\n",
       "      <td>2.082087</td>\n",
       "      <td>0.364224</td>\n",
       "      <td>90</td>\n",
       "    </tr>\n",
       "    <tr>\n",
       "      <th>9</th>\n",
       "      <td>1.634778</td>\n",
       "      <td>3.041045</td>\n",
       "      <td>1.406267</td>\n",
       "      <td>100</td>\n",
       "    </tr>\n",
       "  </tbody>\n",
       "</table>\n",
       "</div>"
      ],
      "text/plain": [
       "     MARKET  STRATEGY       OUT  DAYS\n",
       "0  1.898896  0.992948 -0.905948    10\n",
       "1  1.916885  0.344448 -1.572437    20\n",
       "2  1.985907  0.544240 -1.441668    30\n",
       "3  1.697565  0.590112 -1.107452    40\n",
       "4  1.733424  0.657412 -1.076012    50\n",
       "5  1.733424  1.250868 -0.482555    60\n",
       "6  1.773963  0.715755 -1.058208    70\n",
       "7  1.750927  1.608007 -0.142920    80\n",
       "8  1.717864  2.082087  0.364224    90\n",
       "9  1.634778  3.041045  1.406267   100"
      ]
     },
     "execution_count": 161,
     "metadata": {},
     "output_type": "execute_result"
    }
   ],
   "source": [
    "results"
   ]
  },
  {
   "cell_type": "code",
   "execution_count": 162,
   "metadata": {},
   "outputs": [
    {
     "data": {
      "text/html": [
       "<div>\n",
       "<style scoped>\n",
       "    .dataframe tbody tr th:only-of-type {\n",
       "        vertical-align: middle;\n",
       "    }\n",
       "\n",
       "    .dataframe tbody tr th {\n",
       "        vertical-align: top;\n",
       "    }\n",
       "\n",
       "    .dataframe thead th {\n",
       "        text-align: right;\n",
       "    }\n",
       "</style>\n",
       "<table border=\"1\" class=\"dataframe\">\n",
       "  <thead>\n",
       "    <tr style=\"text-align: right;\">\n",
       "      <th></th>\n",
       "      <th>MARKET</th>\n",
       "      <th>STRATEGY</th>\n",
       "      <th>OUT</th>\n",
       "      <th>DAYS</th>\n",
       "    </tr>\n",
       "  </thead>\n",
       "  <tbody>\n",
       "    <tr>\n",
       "      <th>9</th>\n",
       "      <td>1.634778</td>\n",
       "      <td>3.041045</td>\n",
       "      <td>1.406267</td>\n",
       "      <td>100</td>\n",
       "    </tr>\n",
       "    <tr>\n",
       "      <th>8</th>\n",
       "      <td>1.717864</td>\n",
       "      <td>2.082087</td>\n",
       "      <td>0.364224</td>\n",
       "      <td>90</td>\n",
       "    </tr>\n",
       "    <tr>\n",
       "      <th>7</th>\n",
       "      <td>1.750927</td>\n",
       "      <td>1.608007</td>\n",
       "      <td>-0.142920</td>\n",
       "      <td>80</td>\n",
       "    </tr>\n",
       "    <tr>\n",
       "      <th>5</th>\n",
       "      <td>1.733424</td>\n",
       "      <td>1.250868</td>\n",
       "      <td>-0.482555</td>\n",
       "      <td>60</td>\n",
       "    </tr>\n",
       "    <tr>\n",
       "      <th>0</th>\n",
       "      <td>1.898896</td>\n",
       "      <td>0.992948</td>\n",
       "      <td>-0.905948</td>\n",
       "      <td>10</td>\n",
       "    </tr>\n",
       "    <tr>\n",
       "      <th>6</th>\n",
       "      <td>1.773963</td>\n",
       "      <td>0.715755</td>\n",
       "      <td>-1.058208</td>\n",
       "      <td>70</td>\n",
       "    </tr>\n",
       "    <tr>\n",
       "      <th>4</th>\n",
       "      <td>1.733424</td>\n",
       "      <td>0.657412</td>\n",
       "      <td>-1.076012</td>\n",
       "      <td>50</td>\n",
       "    </tr>\n",
       "    <tr>\n",
       "      <th>3</th>\n",
       "      <td>1.697565</td>\n",
       "      <td>0.590112</td>\n",
       "      <td>-1.107452</td>\n",
       "      <td>40</td>\n",
       "    </tr>\n",
       "    <tr>\n",
       "      <th>2</th>\n",
       "      <td>1.985907</td>\n",
       "      <td>0.544240</td>\n",
       "      <td>-1.441668</td>\n",
       "      <td>30</td>\n",
       "    </tr>\n",
       "    <tr>\n",
       "      <th>1</th>\n",
       "      <td>1.916885</td>\n",
       "      <td>0.344448</td>\n",
       "      <td>-1.572437</td>\n",
       "      <td>20</td>\n",
       "    </tr>\n",
       "  </tbody>\n",
       "</table>\n",
       "</div>"
      ],
      "text/plain": [
       "     MARKET  STRATEGY       OUT  DAYS\n",
       "9  1.634778  3.041045  1.406267   100\n",
       "8  1.717864  2.082087  0.364224    90\n",
       "7  1.750927  1.608007 -0.142920    80\n",
       "5  1.733424  1.250868 -0.482555    60\n",
       "0  1.898896  0.992948 -0.905948    10\n",
       "6  1.773963  0.715755 -1.058208    70\n",
       "4  1.733424  0.657412 -1.076012    50\n",
       "3  1.697565  0.590112 -1.107452    40\n",
       "2  1.985907  0.544240 -1.441668    30\n",
       "1  1.916885  0.344448 -1.572437    20"
      ]
     },
     "execution_count": 162,
     "metadata": {},
     "output_type": "execute_result"
    }
   ],
   "source": [
    "results.sort_values('OUT',ascending=False)"
   ]
  },
  {
   "cell_type": "code",
   "execution_count": 207,
   "metadata": {},
   "outputs": [
    {
     "data": {
      "text/plain": [
       "<matplotlib.axes._subplots.AxesSubplot at 0x23ddde27400>"
      ]
     },
     "execution_count": 207,
     "metadata": {},
     "output_type": "execute_result"
    },
    {
     "data": {
      "image/png": "[encoded data removed]",
      "text/plain": [
       "<Figure size 432x288 with 1 Axes>"
      ]
     },
     "metadata": {
      "needs_background": "light"
     },
     "output_type": "display_data"
    }
   ],
   "source": [
    "results[['MARKET', 'STRATEGY', 'DAYS']].plot(x = 'DAYS', kind = 'bar', title = 'BB Strategy vs Buy & Hold')"
   ]
  },
  {
   "cell_type": "markdown",
   "metadata": {},
   "source": [
    "# Answer 4 - Equal Weighted Portfolio"
   ]
  },
  {
   "cell_type": "code",
   "execution_count": 164,
   "metadata": {},
   "outputs": [
    {
     "data": {
      "text/plain": [
       "EP    0.000282\n",
       "dtype: float64"
      ]
     },
     "execution_count": 164,
     "metadata": {},
     "output_type": "execute_result"
    }
   ],
   "source": [
    "eq_data['EP'] = (eq_data['EQ_R'] + eq_data ['GE_R'] + eq_data ['DBS_R'])/3\n",
    "\n",
    "EP = eq_data [['EP']]\n",
    "\n",
    "EP.mean()"
   ]
  },
  {
   "cell_type": "code",
   "execution_count": 165,
   "metadata": {},
   "outputs": [
    {
     "data": {
      "text/html": [
       "<div>\n",
       "<style scoped>\n",
       "    .dataframe tbody tr th:only-of-type {\n",
       "        vertical-align: middle;\n",
       "    }\n",
       "\n",
       "    .dataframe tbody tr th {\n",
       "        vertical-align: top;\n",
       "    }\n",
       "\n",
       "    .dataframe thead th {\n",
       "        text-align: right;\n",
       "    }\n",
       "</style>\n",
       "<table border=\"1\" class=\"dataframe\">\n",
       "  <thead>\n",
       "    <tr style=\"text-align: right;\">\n",
       "      <th></th>\n",
       "      <th>EQ_P</th>\n",
       "      <th>GE_P</th>\n",
       "      <th>DBS_P</th>\n",
       "    </tr>\n",
       "  </thead>\n",
       "  <tbody>\n",
       "    <tr>\n",
       "      <th>2007-01-31</th>\n",
       "      <td>89.180</td>\n",
       "      <td>22.7053</td>\n",
       "      <td>11.3708</td>\n",
       "    </tr>\n",
       "    <tr>\n",
       "      <th>2007-02-28</th>\n",
       "      <td>83.824</td>\n",
       "      <td>22.1601</td>\n",
       "      <td>11.0090</td>\n",
       "    </tr>\n",
       "    <tr>\n",
       "      <th>2007-03-31</th>\n",
       "      <td>88.645</td>\n",
       "      <td>22.4458</td>\n",
       "      <td>11.0607</td>\n",
       "    </tr>\n",
       "    <tr>\n",
       "      <th>2007-04-30</th>\n",
       "      <td>90.386</td>\n",
       "      <td>23.3979</td>\n",
       "      <td>11.1282</td>\n",
       "    </tr>\n",
       "    <tr>\n",
       "      <th>2007-05-31</th>\n",
       "      <td>92.178</td>\n",
       "      <td>23.9502</td>\n",
       "      <td>12.5928</td>\n",
       "    </tr>\n",
       "  </tbody>\n",
       "</table>\n",
       "</div>"
      ],
      "text/plain": [
       "              EQ_P     GE_P    DBS_P\n",
       "2007-01-31  89.180  22.7053  11.3708\n",
       "2007-02-28  83.824  22.1601  11.0090\n",
       "2007-03-31  88.645  22.4458  11.0607\n",
       "2007-04-30  90.386  23.3979  11.1282\n",
       "2007-05-31  92.178  23.9502  12.5928"
      ]
     },
     "execution_count": 165,
     "metadata": {},
     "output_type": "execute_result"
    }
   ],
   "source": [
    "monthly.head()"
   ]
  },
  {
   "cell_type": "code",
   "execution_count": 166,
   "metadata": {},
   "outputs": [],
   "source": [
    "monthly['EQ_R'] = monthly[['EQ_P']].pct_change() \n",
    "monthly['GE_R'] = monthly[['GE_P']].pct_change() \n",
    "monthly['DBS_R'] = monthly[['DBS_P']].pct_change()"
   ]
  },
  {
   "cell_type": "code",
   "execution_count": 167,
   "metadata": {},
   "outputs": [],
   "source": [
    "monthly = monthly.dropna()"
   ]
  },
  {
   "cell_type": "code",
   "execution_count": 168,
   "metadata": {},
   "outputs": [],
   "source": [
    "monthly['EP'] = (monthly['EQ_R'] + monthly ['GE_R'] + monthly ['DBS_R'])/3"
   ]
  },
  {
   "cell_type": "code",
   "execution_count": 169,
   "metadata": {},
   "outputs": [
    {
     "data": {
      "text/html": [
       "<div>\n",
       "<style scoped>\n",
       "    .dataframe tbody tr th:only-of-type {\n",
       "        vertical-align: middle;\n",
       "    }\n",
       "\n",
       "    .dataframe tbody tr th {\n",
       "        vertical-align: top;\n",
       "    }\n",
       "\n",
       "    .dataframe thead th {\n",
       "        text-align: right;\n",
       "    }\n",
       "</style>\n",
       "<table border=\"1\" class=\"dataframe\">\n",
       "  <thead>\n",
       "    <tr style=\"text-align: right;\">\n",
       "      <th></th>\n",
       "      <th>EQ_P</th>\n",
       "      <th>GE_P</th>\n",
       "      <th>DBS_P</th>\n",
       "      <th>EQ_R</th>\n",
       "      <th>GE_R</th>\n",
       "      <th>DBS_R</th>\n",
       "      <th>EP</th>\n",
       "    </tr>\n",
       "  </thead>\n",
       "  <tbody>\n",
       "    <tr>\n",
       "      <th>2007-02-28</th>\n",
       "      <td>83.824</td>\n",
       "      <td>22.1601</td>\n",
       "      <td>11.0090</td>\n",
       "      <td>-0.060058</td>\n",
       "      <td>-0.024012</td>\n",
       "      <td>-0.031818</td>\n",
       "      <td>-0.038630</td>\n",
       "    </tr>\n",
       "    <tr>\n",
       "      <th>2007-03-31</th>\n",
       "      <td>88.645</td>\n",
       "      <td>22.4458</td>\n",
       "      <td>11.0607</td>\n",
       "      <td>0.057513</td>\n",
       "      <td>0.012893</td>\n",
       "      <td>0.004696</td>\n",
       "      <td>0.025034</td>\n",
       "    </tr>\n",
       "    <tr>\n",
       "      <th>2007-04-30</th>\n",
       "      <td>90.386</td>\n",
       "      <td>23.3979</td>\n",
       "      <td>11.1282</td>\n",
       "      <td>0.019640</td>\n",
       "      <td>0.042418</td>\n",
       "      <td>0.006103</td>\n",
       "      <td>0.022720</td>\n",
       "    </tr>\n",
       "    <tr>\n",
       "      <th>2007-05-31</th>\n",
       "      <td>92.178</td>\n",
       "      <td>23.9502</td>\n",
       "      <td>12.5928</td>\n",
       "      <td>0.019826</td>\n",
       "      <td>0.023605</td>\n",
       "      <td>0.131612</td>\n",
       "      <td>0.058347</td>\n",
       "    </tr>\n",
       "    <tr>\n",
       "      <th>2007-06-30</th>\n",
       "      <td>103.771</td>\n",
       "      <td>24.4747</td>\n",
       "      <td>12.0132</td>\n",
       "      <td>0.125768</td>\n",
       "      <td>0.021900</td>\n",
       "      <td>-0.046026</td>\n",
       "      <td>0.033880</td>\n",
       "    </tr>\n",
       "  </tbody>\n",
       "</table>\n",
       "</div>"
      ],
      "text/plain": [
       "               EQ_P     GE_P    DBS_P      EQ_R      GE_R     DBS_R        EP\n",
       "2007-02-28   83.824  22.1601  11.0090 -0.060058 -0.024012 -0.031818 -0.038630\n",
       "2007-03-31   88.645  22.4458  11.0607  0.057513  0.012893  0.004696  0.025034\n",
       "2007-04-30   90.386  23.3979  11.1282  0.019640  0.042418  0.006103  0.022720\n",
       "2007-05-31   92.178  23.9502  12.5928  0.019826  0.023605  0.131612  0.058347\n",
       "2007-06-30  103.771  24.4747  12.0132  0.125768  0.021900 -0.046026  0.033880"
      ]
     },
     "execution_count": 169,
     "metadata": {},
     "output_type": "execute_result"
    }
   ],
   "source": [
    "monthly.head()"
   ]
  },
  {
   "cell_type": "code",
   "execution_count": 170,
   "metadata": {},
   "outputs": [
    {
     "data": {
      "text/plain": [
       "EP    0.005135\n",
       "dtype: float64"
      ]
     },
     "execution_count": 170,
     "metadata": {},
     "output_type": "execute_result"
    }
   ],
   "source": [
    "monthly[['EP']].mean()"
   ]
  },
  {
   "cell_type": "code",
   "execution_count": 171,
   "metadata": {},
   "outputs": [
    {
     "data": {
      "text/plain": [
       "EP    0.054581\n",
       "dtype: float64"
      ]
     },
     "execution_count": 171,
     "metadata": {},
     "output_type": "execute_result"
    }
   ],
   "source": [
    "monthly[['EP']].std()"
   ]
  },
  {
   "cell_type": "markdown",
   "metadata": {},
   "source": [
    "# Answer 5 - Alphas and Coefficients"
   ]
  },
  {
   "cell_type": "code",
   "execution_count": 172,
   "metadata": {},
   "outputs": [],
   "source": [
    "FF3 = pd.read_csv('https://mba.tuck.dartmouth.edu/pages/faculty/ken.french/ftp/F-F_Research_Data_Factors_daily_CSV.zip', skiprows=range(3), index_col=0)\n",
    "FF5 = pd.read_csv('http://mba.tuck.dartmouth.edu/pages/faculty/ken.french/ftp/F-F_Research_Data_5_Factors_2x3_daily_CSV.zip', skiprows = range(3), index_col = 0)"
   ]
  },
  {
   "cell_type": "code",
   "execution_count": 173,
   "metadata": {},
   "outputs": [],
   "source": [
    "FF3 = FF3.loc['19260701':'20190628']\n",
    "FF3.index=pd.to_datetime(FF3.index.astype(str))\n",
    "FF5.index=pd.to_datetime(FF5.index.astype(str))"
   ]
  },
  {
   "cell_type": "code",
   "execution_count": 174,
   "metadata": {},
   "outputs": [],
   "source": [
    "start_date = '2007-01-01'\n",
    "end_date = '2017-12-31'\n",
    "FF3F = FF3[start_date:end_date]\n",
    "FF5F = FF5[start_date:end_date]"
   ]
  },
  {
   "cell_type": "code",
   "execution_count": 175,
   "metadata": {},
   "outputs": [],
   "source": [
    "FF3F = FF3F/100\n",
    "FF5F = FF5F/100"
   ]
  },
  {
   "cell_type": "code",
   "execution_count": 176,
   "metadata": {},
   "outputs": [],
   "source": [
    "merged3F = pd.concat([eq_data['EP'],FF3F], axis = 1)\n",
    "merged5F = pd.concat([eq_data['EP'],FF5F], axis = 1)"
   ]
  },
  {
   "cell_type": "code",
   "execution_count": 177,
   "metadata": {},
   "outputs": [],
   "source": [
    "merged3F = merged3F.dropna()\n",
    "merged5F = merged5F.dropna()"
   ]
  },
  {
   "cell_type": "code",
   "execution_count": 178,
   "metadata": {},
   "outputs": [],
   "source": [
    "merged3F['ER'] = merged3F['EP'] - merged3F['RF']\n",
    "merged5F['ER'] = merged5F['EP'] - merged5F['RF']"
   ]
  },
  {
   "cell_type": "code",
   "execution_count": 179,
   "metadata": {},
   "outputs": [
    {
     "data": {
      "text/html": [
       "<div>\n",
       "<style scoped>\n",
       "    .dataframe tbody tr th:only-of-type {\n",
       "        vertical-align: middle;\n",
       "    }\n",
       "\n",
       "    .dataframe tbody tr th {\n",
       "        vertical-align: top;\n",
       "    }\n",
       "\n",
       "    .dataframe thead th {\n",
       "        text-align: right;\n",
       "    }\n",
       "</style>\n",
       "<table border=\"1\" class=\"dataframe\">\n",
       "  <thead>\n",
       "    <tr style=\"text-align: right;\">\n",
       "      <th></th>\n",
       "      <th>EP</th>\n",
       "      <th>Mkt-RF</th>\n",
       "      <th>SMB</th>\n",
       "      <th>HML</th>\n",
       "      <th>RF</th>\n",
       "      <th>ER</th>\n",
       "    </tr>\n",
       "  </thead>\n",
       "  <tbody>\n",
       "    <tr>\n",
       "      <th>2007-01-04</th>\n",
       "      <td>-0.017118</td>\n",
       "      <td>0.0016</td>\n",
       "      <td>0.0024</td>\n",
       "      <td>-0.0051</td>\n",
       "      <td>0.00022</td>\n",
       "      <td>-0.017338</td>\n",
       "    </tr>\n",
       "    <tr>\n",
       "      <th>2007-01-05</th>\n",
       "      <td>0.000538</td>\n",
       "      <td>-0.0073</td>\n",
       "      <td>-0.0091</td>\n",
       "      <td>-0.0033</td>\n",
       "      <td>0.00022</td>\n",
       "      <td>0.000318</td>\n",
       "    </tr>\n",
       "    <tr>\n",
       "      <th>2007-01-08</th>\n",
       "      <td>0.005270</td>\n",
       "      <td>0.0024</td>\n",
       "      <td>-0.0007</td>\n",
       "      <td>0.0008</td>\n",
       "      <td>0.00022</td>\n",
       "      <td>0.005050</td>\n",
       "    </tr>\n",
       "    <tr>\n",
       "      <th>2007-01-09</th>\n",
       "      <td>-0.014916</td>\n",
       "      <td>0.0000</td>\n",
       "      <td>0.0028</td>\n",
       "      <td>-0.0020</td>\n",
       "      <td>0.00022</td>\n",
       "      <td>-0.015136</td>\n",
       "    </tr>\n",
       "    <tr>\n",
       "      <th>2007-01-10</th>\n",
       "      <td>-0.009695</td>\n",
       "      <td>0.0023</td>\n",
       "      <td>-0.0008</td>\n",
       "      <td>-0.0017</td>\n",
       "      <td>0.00022</td>\n",
       "      <td>-0.009915</td>\n",
       "    </tr>\n",
       "  </tbody>\n",
       "</table>\n",
       "</div>"
      ],
      "text/plain": [
       "                  EP  Mkt-RF     SMB     HML       RF        ER\n",
       "2007-01-04 -0.017118  0.0016  0.0024 -0.0051  0.00022 -0.017338\n",
       "2007-01-05  0.000538 -0.0073 -0.0091 -0.0033  0.00022  0.000318\n",
       "2007-01-08  0.005270  0.0024 -0.0007  0.0008  0.00022  0.005050\n",
       "2007-01-09 -0.014916  0.0000  0.0028 -0.0020  0.00022 -0.015136\n",
       "2007-01-10 -0.009695  0.0023 -0.0008 -0.0017  0.00022 -0.009915"
      ]
     },
     "execution_count": 179,
     "metadata": {},
     "output_type": "execute_result"
    }
   ],
   "source": [
    "merged3F.head()"
   ]
  },
  {
   "cell_type": "code",
   "execution_count": 180,
   "metadata": {},
   "outputs": [
    {
     "name": "stdout",
     "output_type": "stream",
     "text": [
      "<class 'pandas.core.frame.DataFrame'>\n",
      "DatetimeIndex: 2626 entries, 2007-01-04 to 2017-12-29\n",
      "Data columns (total 6 columns):\n",
      "EP        2626 non-null float64\n",
      "Mkt-RF    2626 non-null float64\n",
      "SMB       2626 non-null float64\n",
      "HML       2626 non-null float64\n",
      "RF        2626 non-null float64\n",
      "ER        2626 non-null float64\n",
      "dtypes: float64(6)\n",
      "memory usage: 143.6 KB\n"
     ]
    }
   ],
   "source": [
    "merged3F.info()"
   ]
  },
  {
   "cell_type": "code",
   "execution_count": 181,
   "metadata": {},
   "outputs": [
    {
     "name": "stdout",
     "output_type": "stream",
     "text": [
      "                            OLS Regression Results                            \n",
      "==============================================================================\n",
      "Dep. Variable:                     ER   R-squared:                       0.397\n",
      "Model:                            OLS   Adj. R-squared:                  0.397\n",
      "Method:                 Least Squares   F-statistic:                     1727.\n",
      "Date:                Sun, 08 Sep 2019   Prob (F-statistic):          1.90e-290\n",
      "Time:                        23:20:04   Log-Likelihood:                 8285.8\n",
      "No. Observations:                2626   AIC:                        -1.657e+04\n",
      "Df Residuals:                    2624   BIC:                        -1.656e+04\n",
      "Df Model:                           1                                         \n",
      "Covariance Type:            nonrobust                                         \n",
      "==============================================================================\n",
      "                 coef    std err          t      P>|t|      [0.025      0.975]\n",
      "------------------------------------------------------------------------------\n",
      "const       5.248e-05      0.000      0.261      0.794      -0.000       0.000\n",
      "Mkt-RF         0.6547      0.016     41.554      0.000       0.624       0.686\n",
      "==============================================================================\n",
      "Omnibus:                      337.785   Durbin-Watson:                   2.121\n",
      "Prob(Omnibus):                  0.000   Jarque-Bera (JB):             3455.504\n",
      "Skew:                           0.191   Prob(JB):                         0.00\n",
      "Kurtosis:                       8.607   Cond. No.                         78.2\n",
      "==============================================================================\n",
      "\n",
      "Warnings:\n",
      "[1] Standard Errors assume that the covariance matrix of the errors is correctly specified.\n"
     ]
    },
    {
     "name": "stderr",
     "output_type": "stream",
     "text": [
      "C:\\Users\\Shariq\\Anaconda3\\lib\\site-packages\\numpy\\core\\fromnumeric.py:2389: FutureWarning: Method .ptp is deprecated and will be removed in a future version. Use numpy.ptp instead.\n",
      "  return ptp(axis=axis, out=out, **kwargs)\n"
     ]
    }
   ],
   "source": [
    "x = merged3F['Mkt-RF']                 \n",
    "x1= sm.add_constant(x)                  \n",
    "y = merged3F['ER']\n",
    "CAPM_model= sm.OLS(y,x1).fit()\n",
    "print(CAPM_model.summary())"
   ]
  },
  {
   "cell_type": "code",
   "execution_count": 182,
   "metadata": {},
   "outputs": [
    {
     "name": "stdout",
     "output_type": "stream",
     "text": [
      "                            OLS Regression Results                            \n",
      "==============================================================================\n",
      "Dep. Variable:                     ER   R-squared:                       0.407\n",
      "Model:                            OLS   Adj. R-squared:                  0.407\n",
      "Method:                 Least Squares   F-statistic:                     600.7\n",
      "Date:                Sun, 08 Sep 2019   Prob (F-statistic):          3.59e-297\n",
      "Time:                        23:20:04   Log-Likelihood:                 8308.7\n",
      "No. Observations:                2626   AIC:                        -1.661e+04\n",
      "Df Residuals:                    2622   BIC:                        -1.659e+04\n",
      "Df Model:                           3                                         \n",
      "Covariance Type:            nonrobust                                         \n",
      "==============================================================================\n",
      "                 coef    std err          t      P>|t|      [0.025      0.975]\n",
      "------------------------------------------------------------------------------\n",
      "const       7.958e-05      0.000      0.398      0.690      -0.000       0.000\n",
      "Mkt-RF         0.6306      0.017     36.220      0.000       0.596       0.665\n",
      "SMB           -0.1381      0.035     -3.981      0.000      -0.206      -0.070\n",
      "HML            0.1542      0.032      4.880      0.000       0.092       0.216\n",
      "==============================================================================\n",
      "Omnibus:                      348.461   Durbin-Watson:                   2.116\n",
      "Prob(Omnibus):                  0.000   Jarque-Bera (JB):             3772.451\n",
      "Skew:                           0.192   Prob(JB):                         0.00\n",
      "Kurtosis:                       8.859   Cond. No.                         183.\n",
      "==============================================================================\n",
      "\n",
      "Warnings:\n",
      "[1] Standard Errors assume that the covariance matrix of the errors is correctly specified.\n"
     ]
    }
   ],
   "source": [
    "a11= merged3F[['Mkt-RF','SMB','HML']]\n",
    "a11=sm.add_constant(a11)\n",
    "b11= merged3F['ER']\n",
    "FF3_model=sm.OLS(b11,a11).fit()\n",
    "print(FF3_model.summary())"
   ]
  },
  {
   "cell_type": "code",
   "execution_count": 183,
   "metadata": {},
   "outputs": [
    {
     "name": "stdout",
     "output_type": "stream",
     "text": [
      "                            OLS Regression Results                            \n",
      "==============================================================================\n",
      "Dep. Variable:                     ER   R-squared:                       0.410\n",
      "Model:                            OLS   Adj. R-squared:                  0.409\n",
      "Method:                 Least Squares   F-statistic:                     364.2\n",
      "Date:                Sun, 08 Sep 2019   Prob (F-statistic):          5.89e-297\n",
      "Time:                        23:20:05   Log-Likelihood:                 8314.7\n",
      "No. Observations:                2626   AIC:                        -1.662e+04\n",
      "Df Residuals:                    2620   BIC:                        -1.658e+04\n",
      "Df Model:                           5                                         \n",
      "Covariance Type:            nonrobust                                         \n",
      "==============================================================================\n",
      "                 coef    std err          t      P>|t|      [0.025      0.975]\n",
      "------------------------------------------------------------------------------\n",
      "const          0.0001      0.000      0.588      0.556      -0.000       0.001\n",
      "Mkt-RF         0.6166      0.019     33.248      0.000       0.580       0.653\n",
      "SMB           -0.1709      0.036     -4.688      0.000      -0.242      -0.099\n",
      "HML            0.1439      0.036      4.035      0.000       0.074       0.214\n",
      "RMW           -0.2101      0.065     -3.250      0.001      -0.337      -0.083\n",
      "CMA           -0.0409      0.070     -0.586      0.558      -0.178       0.096\n",
      "==============================================================================\n",
      "Omnibus:                      336.731   Durbin-Watson:                   2.115\n",
      "Prob(Omnibus):                  0.000   Jarque-Bera (JB):             3488.529\n",
      "Skew:                           0.177   Prob(JB):                         0.00\n",
      "Kurtosis:                       8.635   Cond. No.                         371.\n",
      "==============================================================================\n",
      "\n",
      "Warnings:\n",
      "[1] Standard Errors assume that the covariance matrix of the errors is correctly specified.\n"
     ]
    }
   ],
   "source": [
    "a = merged5F[['Mkt-RF','SMB','HML','RMW','CMA']]                 \n",
    "a1= sm.add_constant(a)                  \n",
    "b = merged5F['ER']\n",
    "FF5_model= sm.OLS(b,a1).fit()\n",
    "print(FF5_model.summary())"
   ]
  },
  {
   "cell_type": "markdown",
   "metadata": {},
   "source": [
    "# Answer 6 - Amihud Illiquidity  Measures"
   ]
  },
  {
   "cell_type": "code",
   "execution_count": 184,
   "metadata": {},
   "outputs": [],
   "source": [
    "eq_data['EQ_DV'] = eq_data['EQ_P']*eq_data['EQ_V']\n",
    "eq_data['GE_DV'] = eq_data['GE_P']*eq_data['GE_V']\n",
    "eq_data['DBS_DV'] = eq_data['DBS_P']*eq_data['DBS_V']"
   ]
  },
  {
   "cell_type": "code",
   "execution_count": 185,
   "metadata": {},
   "outputs": [
    {
     "data": {
      "text/html": [
       "<div>\n",
       "<style scoped>\n",
       "    .dataframe tbody tr th:only-of-type {\n",
       "        vertical-align: middle;\n",
       "    }\n",
       "\n",
       "    .dataframe tbody tr th {\n",
       "        vertical-align: top;\n",
       "    }\n",
       "\n",
       "    .dataframe thead th {\n",
       "        text-align: right;\n",
       "    }\n",
       "</style>\n",
       "<table border=\"1\" class=\"dataframe\">\n",
       "  <thead>\n",
       "    <tr style=\"text-align: right;\">\n",
       "      <th></th>\n",
       "      <th>EQ_P</th>\n",
       "      <th>EQ_V</th>\n",
       "      <th>GE_P</th>\n",
       "      <th>GE_V</th>\n",
       "      <th>DBS_P</th>\n",
       "      <th>DBS_V</th>\n",
       "      <th>EQ_R</th>\n",
       "      <th>GE_R</th>\n",
       "      <th>DBS_R</th>\n",
       "      <th>EP</th>\n",
       "      <th>EQ_DV</th>\n",
       "      <th>GE_DV</th>\n",
       "      <th>DBS_DV</th>\n",
       "    </tr>\n",
       "    <tr>\n",
       "      <th>Date</th>\n",
       "      <th></th>\n",
       "      <th></th>\n",
       "      <th></th>\n",
       "      <th></th>\n",
       "      <th></th>\n",
       "      <th></th>\n",
       "      <th></th>\n",
       "      <th></th>\n",
       "      <th></th>\n",
       "      <th></th>\n",
       "      <th></th>\n",
       "      <th></th>\n",
       "      <th></th>\n",
       "    </tr>\n",
       "  </thead>\n",
       "  <tbody>\n",
       "    <tr>\n",
       "      <th>2017-12-21</th>\n",
       "      <td>161.830</td>\n",
       "      <td>2288401.0</td>\n",
       "      <td>16.1857</td>\n",
       "      <td>67877696.0</td>\n",
       "      <td>22.1348</td>\n",
       "      <td>2745000.0</td>\n",
       "      <td>0.022267</td>\n",
       "      <td>0.001150</td>\n",
       "      <td>-0.001218</td>\n",
       "      <td>0.007400</td>\n",
       "      <td>3.703319e+08</td>\n",
       "      <td>1.098648e+09</td>\n",
       "      <td>6.076003e+07</td>\n",
       "    </tr>\n",
       "    <tr>\n",
       "      <th>2017-12-22</th>\n",
       "      <td>162.293</td>\n",
       "      <td>2277323.0</td>\n",
       "      <td>16.2134</td>\n",
       "      <td>46370351.0</td>\n",
       "      <td>22.2881</td>\n",
       "      <td>2286200.0</td>\n",
       "      <td>0.002861</td>\n",
       "      <td>0.001711</td>\n",
       "      <td>0.006926</td>\n",
       "      <td>0.003833</td>\n",
       "      <td>3.695936e+08</td>\n",
       "      <td>7.518210e+08</td>\n",
       "      <td>5.095505e+07</td>\n",
       "    </tr>\n",
       "    <tr>\n",
       "      <th>2017-12-27</th>\n",
       "      <td>164.055</td>\n",
       "      <td>1753487.0</td>\n",
       "      <td>16.2134</td>\n",
       "      <td>60126681.0</td>\n",
       "      <td>22.4323</td>\n",
       "      <td>2437700.0</td>\n",
       "      <td>0.010857</td>\n",
       "      <td>0.000000</td>\n",
       "      <td>0.006470</td>\n",
       "      <td>0.005776</td>\n",
       "      <td>2.876683e+08</td>\n",
       "      <td>9.748579e+08</td>\n",
       "      <td>5.468322e+07</td>\n",
       "    </tr>\n",
       "    <tr>\n",
       "      <th>2017-12-28</th>\n",
       "      <td>163.499</td>\n",
       "      <td>1055824.0</td>\n",
       "      <td>16.1948</td>\n",
       "      <td>60934882.0</td>\n",
       "      <td>22.4504</td>\n",
       "      <td>1811300.0</td>\n",
       "      <td>-0.003389</td>\n",
       "      <td>-0.001147</td>\n",
       "      <td>0.000807</td>\n",
       "      <td>-0.001243</td>\n",
       "      <td>1.726262e+08</td>\n",
       "      <td>9.868282e+08</td>\n",
       "      <td>4.066441e+07</td>\n",
       "    </tr>\n",
       "    <tr>\n",
       "      <th>2017-12-29</th>\n",
       "      <td>162.479</td>\n",
       "      <td>1382372.0</td>\n",
       "      <td>16.2787</td>\n",
       "      <td>76149513.0</td>\n",
       "      <td>22.4053</td>\n",
       "      <td>4495200.0</td>\n",
       "      <td>-0.006239</td>\n",
       "      <td>0.005181</td>\n",
       "      <td>-0.002009</td>\n",
       "      <td>-0.001022</td>\n",
       "      <td>2.246064e+08</td>\n",
       "      <td>1.239615e+09</td>\n",
       "      <td>1.007163e+08</td>\n",
       "    </tr>\n",
       "  </tbody>\n",
       "</table>\n",
       "</div>"
      ],
      "text/plain": [
       "               EQ_P       EQ_V     GE_P        GE_V    DBS_P      DBS_V  \\\n",
       "Date                                                                      \n",
       "2017-12-21  161.830  2288401.0  16.1857  67877696.0  22.1348  2745000.0   \n",
       "2017-12-22  162.293  2277323.0  16.2134  46370351.0  22.2881  2286200.0   \n",
       "2017-12-27  164.055  1753487.0  16.2134  60126681.0  22.4323  2437700.0   \n",
       "2017-12-28  163.499  1055824.0  16.1948  60934882.0  22.4504  1811300.0   \n",
       "2017-12-29  162.479  1382372.0  16.2787  76149513.0  22.4053  4495200.0   \n",
       "\n",
       "                EQ_R      GE_R     DBS_R        EP         EQ_DV  \\\n",
       "Date                                                               \n",
       "2017-12-21  0.022267  0.001150 -0.001218  0.007400  3.703319e+08   \n",
       "2017-12-22  0.002861  0.001711  0.006926  0.003833  3.695936e+08   \n",
       "2017-12-27  0.010857  0.000000  0.006470  0.005776  2.876683e+08   \n",
       "2017-12-28 -0.003389 -0.001147  0.000807 -0.001243  1.726262e+08   \n",
       "2017-12-29 -0.006239  0.005181 -0.002009 -0.001022  2.246064e+08   \n",
       "\n",
       "                   GE_DV        DBS_DV  \n",
       "Date                                    \n",
       "2017-12-21  1.098648e+09  6.076003e+07  \n",
       "2017-12-22  7.518210e+08  5.095505e+07  \n",
       "2017-12-27  9.748579e+08  5.468322e+07  \n",
       "2017-12-28  9.868282e+08  4.066441e+07  \n",
       "2017-12-29  1.239615e+09  1.007163e+08  "
      ]
     },
     "execution_count": 185,
     "metadata": {},
     "output_type": "execute_result"
    }
   ],
   "source": [
    "eq_data.tail()"
   ]
  },
  {
   "cell_type": "code",
   "execution_count": 186,
   "metadata": {},
   "outputs": [],
   "source": [
    "output = pd.DataFrame(columns=[['date','Illiq']])"
   ]
  },
  {
   "cell_type": "code",
   "execution_count": 187,
   "metadata": {},
   "outputs": [],
   "source": [
    "stocks = ('EQ','GE','DBS')"
   ]
  },
  {
   "cell_type": "code",
   "execution_count": 188,
   "metadata": {},
   "outputs": [],
   "source": [
    "i=0\n",
    "for stock in range (0,3):\n",
    "    for year in range(2008,2010):\n",
    "        for month in range(1,13):\n",
    "            df = eq_data.loc[(eq_data.index.year==year) & (eq_data.index.month==month)]\n",
    "            illiq = abs(df[stocks[stock]+'_R'])/(df[stocks[stock]+'_DV'])\n",
    "            Illiq=illiq.mean()\n",
    "            output.loc[i]=[str(year)+ str(month), Illiq]\n",
    "            i = i+1"
   ]
  },
  {
   "cell_type": "code",
   "execution_count": 189,
   "metadata": {},
   "outputs": [
    {
     "data": {
      "text/html": [
       "<div>\n",
       "<style scoped>\n",
       "    .dataframe tbody tr th:only-of-type {\n",
       "        vertical-align: middle;\n",
       "    }\n",
       "\n",
       "    .dataframe tbody tr th {\n",
       "        vertical-align: top;\n",
       "    }\n",
       "\n",
       "    .dataframe thead tr th {\n",
       "        text-align: left;\n",
       "    }\n",
       "</style>\n",
       "<table border=\"1\" class=\"dataframe\">\n",
       "  <thead>\n",
       "    <tr>\n",
       "      <th></th>\n",
       "      <th>date</th>\n",
       "      <th>Illiq</th>\n",
       "    </tr>\n",
       "  </thead>\n",
       "  <tbody>\n",
       "    <tr>\n",
       "      <th>0</th>\n",
       "      <td>20081</td>\n",
       "      <td>1.579210e-11</td>\n",
       "    </tr>\n",
       "    <tr>\n",
       "      <th>1</th>\n",
       "      <td>20082</td>\n",
       "      <td>1.629895e-11</td>\n",
       "    </tr>\n",
       "    <tr>\n",
       "      <th>2</th>\n",
       "      <td>20083</td>\n",
       "      <td>1.151929e-11</td>\n",
       "    </tr>\n",
       "    <tr>\n",
       "      <th>3</th>\n",
       "      <td>20084</td>\n",
       "      <td>1.071914e-11</td>\n",
       "    </tr>\n",
       "    <tr>\n",
       "      <th>4</th>\n",
       "      <td>20085</td>\n",
       "      <td>1.163377e-11</td>\n",
       "    </tr>\n",
       "  </tbody>\n",
       "</table>\n",
       "</div>"
      ],
      "text/plain": [
       "    date         Illiq\n",
       "0  20081  1.579210e-11\n",
       "1  20082  1.629895e-11\n",
       "2  20083  1.151929e-11\n",
       "3  20084  1.071914e-11\n",
       "4  20085  1.163377e-11"
      ]
     },
     "execution_count": 189,
     "metadata": {},
     "output_type": "execute_result"
    }
   ],
   "source": [
    "output.head()"
   ]
  },
  {
   "cell_type": "code",
   "execution_count": 190,
   "metadata": {},
   "outputs": [],
   "source": [
    "EQ_I = output.iloc[0:24,:]\n",
    "GE_I = output.iloc[24:48,:]\n",
    "DBS_I = output.iloc[48:72,:]"
   ]
  },
  {
   "cell_type": "code",
   "execution_count": 191,
   "metadata": {},
   "outputs": [],
   "source": [
    "EQ_I.columns = ('Date', 'EQ_Illiq')\n",
    "GE_I.columns = ('Date','GE_Illiq')\n",
    "DBS_I.columns = ('Date','DBS_Illiq')"
   ]
  },
  {
   "cell_type": "code",
   "execution_count": 192,
   "metadata": {},
   "outputs": [],
   "source": [
    "EQ_I = EQ_I.set_index('Date')\n",
    "GE_I = GE_I.set_index('Date')\n",
    "DBS_I = DBS_I.set_index('Date')"
   ]
  },
  {
   "cell_type": "code",
   "execution_count": 193,
   "metadata": {},
   "outputs": [],
   "source": [
    "A_Illiq = pd.concat([EQ_I,GE_I,DBS_I], axis = 1, ignore_index=True)"
   ]
  },
  {
   "cell_type": "code",
   "execution_count": 194,
   "metadata": {},
   "outputs": [],
   "source": [
    "A_Illiq.columns = ['Eq_Illiq', 'GE_Illiq', 'DBS_Illiq']"
   ]
  },
  {
   "cell_type": "code",
   "execution_count": 195,
   "metadata": {},
   "outputs": [
    {
     "data": {
      "text/html": [
       "<div>\n",
       "<style scoped>\n",
       "    .dataframe tbody tr th:only-of-type {\n",
       "        vertical-align: middle;\n",
       "    }\n",
       "\n",
       "    .dataframe tbody tr th {\n",
       "        vertical-align: top;\n",
       "    }\n",
       "\n",
       "    .dataframe thead th {\n",
       "        text-align: right;\n",
       "    }\n",
       "</style>\n",
       "<table border=\"1\" class=\"dataframe\">\n",
       "  <thead>\n",
       "    <tr style=\"text-align: right;\">\n",
       "      <th></th>\n",
       "      <th>Eq_Illiq</th>\n",
       "      <th>GE_Illiq</th>\n",
       "      <th>DBS_Illiq</th>\n",
       "    </tr>\n",
       "    <tr>\n",
       "      <th>Date</th>\n",
       "      <th></th>\n",
       "      <th></th>\n",
       "      <th></th>\n",
       "    </tr>\n",
       "  </thead>\n",
       "  <tbody>\n",
       "    <tr>\n",
       "      <th>20081</th>\n",
       "      <td>1.579210e-11</td>\n",
       "      <td>1.141586e-11</td>\n",
       "      <td>2.147448e-10</td>\n",
       "    </tr>\n",
       "    <tr>\n",
       "      <th>20082</th>\n",
       "      <td>1.629895e-11</td>\n",
       "      <td>1.121433e-11</td>\n",
       "      <td>2.111228e-10</td>\n",
       "    </tr>\n",
       "    <tr>\n",
       "      <th>20083</th>\n",
       "      <td>1.151929e-11</td>\n",
       "      <td>1.380470e-11</td>\n",
       "      <td>2.149794e-10</td>\n",
       "    </tr>\n",
       "    <tr>\n",
       "      <th>20084</th>\n",
       "      <td>1.071914e-11</td>\n",
       "      <td>9.853646e-12</td>\n",
       "      <td>1.594457e-10</td>\n",
       "    </tr>\n",
       "    <tr>\n",
       "      <th>20085</th>\n",
       "      <td>1.163377e-11</td>\n",
       "      <td>7.248444e-12</td>\n",
       "      <td>1.160762e-10</td>\n",
       "    </tr>\n",
       "  </tbody>\n",
       "</table>\n",
       "</div>"
      ],
      "text/plain": [
       "           Eq_Illiq      GE_Illiq     DBS_Illiq\n",
       "Date                                           \n",
       "20081  1.579210e-11  1.141586e-11  2.147448e-10\n",
       "20082  1.629895e-11  1.121433e-11  2.111228e-10\n",
       "20083  1.151929e-11  1.380470e-11  2.149794e-10\n",
       "20084  1.071914e-11  9.853646e-12  1.594457e-10\n",
       "20085  1.163377e-11  7.248444e-12  1.160762e-10"
      ]
     },
     "execution_count": 195,
     "metadata": {},
     "output_type": "execute_result"
    }
   ],
   "source": [
    "A_Illiq.head()"
   ]
  },
  {
   "cell_type": "code",
   "execution_count": 196,
   "metadata": {},
   "outputs": [
    {
     "data": {
      "text/plain": [
       "<matplotlib.axes._subplots.AxesSubplot at 0x23dddf36eb8>"
      ]
     },
     "execution_count": 196,
     "metadata": {},
     "output_type": "execute_result"
    },
    {
     "data": {
      "image/png": "[encoded data removed]",
      "text/plain": [
       "<Figure size 432x288 with 1 Axes>"
      ]
     },
     "metadata": {
      "needs_background": "light"
     },
     "output_type": "display_data"
    }
   ],
   "source": [
    "A_Illiq.plot(title = 'Amihud Illiquidity Measure')"
   ]
  },
  {
   "cell_type": "markdown",
   "metadata": {},
   "source": [
    "# Answer 7 -  Sharpe Ratios"
   ]
  },
  {
   "cell_type": "code",
   "execution_count": 197,
   "metadata": {},
   "outputs": [
    {
     "data": {
      "text/html": [
       "<div>\n",
       "<style scoped>\n",
       "    .dataframe tbody tr th:only-of-type {\n",
       "        vertical-align: middle;\n",
       "    }\n",
       "\n",
       "    .dataframe tbody tr th {\n",
       "        vertical-align: top;\n",
       "    }\n",
       "\n",
       "    .dataframe thead th {\n",
       "        text-align: right;\n",
       "    }\n",
       "</style>\n",
       "<table border=\"1\" class=\"dataframe\">\n",
       "  <thead>\n",
       "    <tr style=\"text-align: right;\">\n",
       "      <th></th>\n",
       "      <th>EQ_P</th>\n",
       "      <th>EQ_V</th>\n",
       "      <th>GE_P</th>\n",
       "      <th>GE_V</th>\n",
       "      <th>DBS_P</th>\n",
       "      <th>DBS_V</th>\n",
       "      <th>EQ_R</th>\n",
       "      <th>GE_R</th>\n",
       "      <th>DBS_R</th>\n",
       "      <th>EP</th>\n",
       "      <th>EQ_DV</th>\n",
       "      <th>GE_DV</th>\n",
       "      <th>DBS_DV</th>\n",
       "    </tr>\n",
       "    <tr>\n",
       "      <th>Date</th>\n",
       "      <th></th>\n",
       "      <th></th>\n",
       "      <th></th>\n",
       "      <th></th>\n",
       "      <th></th>\n",
       "      <th></th>\n",
       "      <th></th>\n",
       "      <th></th>\n",
       "      <th></th>\n",
       "      <th></th>\n",
       "      <th></th>\n",
       "      <th></th>\n",
       "      <th></th>\n",
       "    </tr>\n",
       "  </thead>\n",
       "  <tbody>\n",
       "    <tr>\n",
       "      <th>2007-01-04</th>\n",
       "      <td>84.226</td>\n",
       "      <td>17300051.0</td>\n",
       "      <td>23.7761</td>\n",
       "      <td>31305800.0</td>\n",
       "      <td>11.6293</td>\n",
       "      <td>4095213.0</td>\n",
       "      <td>-0.036757</td>\n",
       "      <td>-0.005791</td>\n",
       "      <td>-0.008805</td>\n",
       "      <td>-0.017118</td>\n",
       "      <td>1.457114e+09</td>\n",
       "      <td>7.443298e+08</td>\n",
       "      <td>4.762446e+07</td>\n",
       "    </tr>\n",
       "    <tr>\n",
       "      <th>2007-01-05</th>\n",
       "      <td>83.289</td>\n",
       "      <td>21904081.0</td>\n",
       "      <td>23.6564</td>\n",
       "      <td>27027200.0</td>\n",
       "      <td>11.8360</td>\n",
       "      <td>6526818.0</td>\n",
       "      <td>-0.011125</td>\n",
       "      <td>-0.005034</td>\n",
       "      <td>0.017774</td>\n",
       "      <td>0.000538</td>\n",
       "      <td>1.824369e+09</td>\n",
       "      <td>6.393663e+08</td>\n",
       "      <td>7.725142e+07</td>\n",
       "    </tr>\n",
       "    <tr>\n",
       "      <th>2007-01-08</th>\n",
       "      <td>84.628</td>\n",
       "      <td>15407693.0</td>\n",
       "      <td>23.6501</td>\n",
       "      <td>23716200.0</td>\n",
       "      <td>11.8360</td>\n",
       "      <td>6865573.0</td>\n",
       "      <td>0.016077</td>\n",
       "      <td>-0.000266</td>\n",
       "      <td>0.000000</td>\n",
       "      <td>0.005270</td>\n",
       "      <td>1.303922e+09</td>\n",
       "      <td>5.608905e+08</td>\n",
       "      <td>8.126092e+07</td>\n",
       "    </tr>\n",
       "    <tr>\n",
       "      <th>2007-01-09</th>\n",
       "      <td>81.950</td>\n",
       "      <td>32401199.0</td>\n",
       "      <td>23.6501</td>\n",
       "      <td>24606300.0</td>\n",
       "      <td>11.6809</td>\n",
       "      <td>6748401.0</td>\n",
       "      <td>-0.031644</td>\n",
       "      <td>0.000000</td>\n",
       "      <td>-0.013104</td>\n",
       "      <td>-0.014916</td>\n",
       "      <td>2.655278e+09</td>\n",
       "      <td>5.819415e+08</td>\n",
       "      <td>7.882740e+07</td>\n",
       "    </tr>\n",
       "    <tr>\n",
       "      <th>2007-01-10</th>\n",
       "      <td>82.083</td>\n",
       "      <td>24376664.0</td>\n",
       "      <td>23.6564</td>\n",
       "      <td>23996900.0</td>\n",
       "      <td>11.3191</td>\n",
       "      <td>6021007.0</td>\n",
       "      <td>0.001623</td>\n",
       "      <td>0.000266</td>\n",
       "      <td>-0.030974</td>\n",
       "      <td>-0.009695</td>\n",
       "      <td>2.000910e+09</td>\n",
       "      <td>5.676803e+08</td>\n",
       "      <td>6.815238e+07</td>\n",
       "    </tr>\n",
       "  </tbody>\n",
       "</table>\n",
       "</div>"
      ],
      "text/plain": [
       "              EQ_P        EQ_V     GE_P        GE_V    DBS_P      DBS_V  \\\n",
       "Date                                                                      \n",
       "2007-01-04  84.226  17300051.0  23.7761  31305800.0  11.6293  4095213.0   \n",
       "2007-01-05  83.289  21904081.0  23.6564  27027200.0  11.8360  6526818.0   \n",
       "2007-01-08  84.628  15407693.0  23.6501  23716200.0  11.8360  6865573.0   \n",
       "2007-01-09  81.950  32401199.0  23.6501  24606300.0  11.6809  6748401.0   \n",
       "2007-01-10  82.083  24376664.0  23.6564  23996900.0  11.3191  6021007.0   \n",
       "\n",
       "                EQ_R      GE_R     DBS_R        EP         EQ_DV  \\\n",
       "Date                                                               \n",
       "2007-01-04 -0.036757 -0.005791 -0.008805 -0.017118  1.457114e+09   \n",
       "2007-01-05 -0.011125 -0.005034  0.017774  0.000538  1.824369e+09   \n",
       "2007-01-08  0.016077 -0.000266  0.000000  0.005270  1.303922e+09   \n",
       "2007-01-09 -0.031644  0.000000 -0.013104 -0.014916  2.655278e+09   \n",
       "2007-01-10  0.001623  0.000266 -0.030974 -0.009695  2.000910e+09   \n",
       "\n",
       "                   GE_DV        DBS_DV  \n",
       "Date                                    \n",
       "2007-01-04  7.443298e+08  4.762446e+07  \n",
       "2007-01-05  6.393663e+08  7.725142e+07  \n",
       "2007-01-08  5.608905e+08  8.126092e+07  \n",
       "2007-01-09  5.819415e+08  7.882740e+07  \n",
       "2007-01-10  5.676803e+08  6.815238e+07  "
      ]
     },
     "execution_count": 197,
     "metadata": {},
     "output_type": "execute_result"
    }
   ],
   "source": [
    "eq_data.head()"
   ]
  },
  {
   "cell_type": "code",
   "execution_count": 198,
   "metadata": {},
   "outputs": [],
   "source": [
    "SR_GE = (eq_data['GE_R'].mean() - merged3F['RF'].mean())/eq_data['GE_R'].std()\n",
    "SR_EQ = (eq_data['EQ_R'].mean() - merged3F['RF'].mean())/eq_data['EQ_R'].std()\n",
    "SR_DBS = (eq_data['DBS_R'].mean() - merged3F['RF'].mean())/eq_data['DBS_R'].std()\n",
    "SR_EP = (eq_data['EP'].mean() - merged3F['RF'].mean())/eq_data['EP'].std()"
   ]
  },
  {
   "cell_type": "code",
   "execution_count": 199,
   "metadata": {},
   "outputs": [],
   "source": [
    "SRList = [SR_GE,SR_EQ, SR_DBS,SR_EP]\n",
    "StockList = ['GE', 'EQ', 'DBS', 'EP']"
   ]
  },
  {
   "cell_type": "code",
   "execution_count": 200,
   "metadata": {},
   "outputs": [],
   "source": [
    "SRList = pd.DataFrame(SRList)"
   ]
  },
  {
   "cell_type": "code",
   "execution_count": 201,
   "metadata": {},
   "outputs": [],
   "source": [
    "StockList = pd.DataFrame(StockList)"
   ]
  },
  {
   "cell_type": "code",
   "execution_count": 202,
   "metadata": {},
   "outputs": [],
   "source": [
    "SRS = pd.concat([StockList, SRList], axis = 1, ignore_index=True)"
   ]
  },
  {
   "cell_type": "code",
   "execution_count": 203,
   "metadata": {},
   "outputs": [],
   "source": [
    "SRS = SRS.set_index(0)"
   ]
  },
  {
   "cell_type": "code",
   "execution_count": 204,
   "metadata": {},
   "outputs": [],
   "source": [
    "SRS.columns = ['Sharpe Ratios']"
   ]
  },
  {
   "cell_type": "code",
   "execution_count": 205,
   "metadata": {},
   "outputs": [],
   "source": [
    "SRS.index.name = 'Stocks'"
   ]
  },
  {
   "cell_type": "code",
   "execution_count": 206,
   "metadata": {},
   "outputs": [
    {
     "data": {
      "text/plain": [
       "<matplotlib.axes._subplots.AxesSubplot at 0x23dde40e908>"
      ]
     },
     "execution_count": 206,
     "metadata": {},
     "output_type": "execute_result"
    },
    {
     "data": {
      "image/png": "[encoded data removed]",
      "text/plain": [
       "<Figure size 432x288 with 1 Axes>"
      ]
     },
     "metadata": {
      "needs_background": "light"
     },
     "output_type": "display_data"
    }
   ],
   "source": [
    "SRS.plot(kind = 'bar', title = 'Sharpe Ratios', legend=False)"
   ]
  },
  {
   "cell_type": "code",
   "execution_count": null,
   "metadata": {},
   "outputs": [],
   "source": []
  }
 ],
 "metadata": {
  "kernelspec": {
   "display_name": "Python 3",
   "language": "python",
   "name": "python3"
  },
  "language_info": {
   "codemirror_mode": {
    "name": "ipython",
    "version": 3
   },
   "file_extension": ".py",
   "mimetype": "text/x-python",
   "name": "python",
   "nbconvert_exporter": "python",
   "pygments_lexer": "ipython3",
   "version": "3.7.3"
  }
 },
 "nbformat": 4,
 "nbformat_minor": 2
}
